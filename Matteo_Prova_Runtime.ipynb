{
 "cells": [
  {
   "cell_type": "markdown",
   "source": [
    "# Data Collection"
   ],
   "metadata": {
    "collapsed": false
   },
   "id": "cdb47936c144393c"
  },
  {
   "cell_type": "code",
   "execution_count": null,
   "outputs": [],
   "source": [
    "from kafka import KafkaProducer\n",
    "\n",
    "# ... [previous imports and code] ...\n",
    "from yahoo_fin import stock_info as si\n",
    "import time\n",
    "\n",
    "stocks_to_watch = ['AAPL', 'AMZN', 'TSLA']\n",
    "\n",
    "producer = KafkaProducer(bootstrap_servers='localhost:9092')  # assuming Kafka is running locally on default port\n",
    "\n",
    "while True:\n",
    "    for stock in stocks_to_watch:\n",
    "        stock_data = si.get_quote_table(stock)\n",
    "        producer.send('stock_data_topic', value=stock_data)  # send data to 'stock_data_topic' topic in Kafka\n",
    "        time.sleep(300)\n"
   ],
   "metadata": {
    "collapsed": false
   },
   "id": "2cf5a55c8a8d29dc"
  }
 ],
 "metadata": {
  "kernelspec": {
   "display_name": "Python 3",
   "language": "python",
   "name": "python3"
  },
  "language_info": {
   "codemirror_mode": {
    "name": "ipython",
    "version": 2
   },
   "file_extension": ".py",
   "mimetype": "text/x-python",
   "name": "python",
   "nbconvert_exporter": "python",
   "pygments_lexer": "ipython2",
   "version": "2.7.6"
  }
 },
 "nbformat": 4,
 "nbformat_minor": 5
}
