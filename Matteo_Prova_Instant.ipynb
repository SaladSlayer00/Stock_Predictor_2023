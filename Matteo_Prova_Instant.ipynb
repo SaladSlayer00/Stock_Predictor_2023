{
 "cells": [
  {
   "cell_type": "markdown",
   "source": [
    "# Data Collection"
   ],
   "metadata": {
    "collapsed": false
   },
   "id": "6a84f1be21ccfc3d"
  },
  {
   "cell_type": "code",
   "execution_count": 40,
   "outputs": [],
   "source": [
    "from yahoo_fin import stock_info as si\n",
    "import datetime as dt\n",
    "import pandas_datareader as pdr\n",
    "import pandas as pd"
   ],
   "metadata": {
    "collapsed": false,
    "ExecuteTime": {
     "end_time": "2023-09-25T10:24:38.010280Z",
     "start_time": "2023-09-25T10:24:38.003909Z"
    }
   },
   "id": "61aa8aadea8b1aeb"
  },
  {
   "cell_type": "code",
   "execution_count": 44,
   "outputs": [],
   "source": [
    "ticker = 'TSLA'\n",
    "start_date = dt.datetime(2010, 1, 1)\n",
    "end_date = dt.datetime(2023, 1, 1)"
   ],
   "metadata": {
    "collapsed": false,
    "ExecuteTime": {
     "end_time": "2023-09-25T10:25:37.660700Z",
     "start_time": "2023-09-25T10:25:37.654384Z"
    }
   },
   "id": "d00eadd2fee8f34c"
  },
  {
   "cell_type": "code",
   "execution_count": 47,
   "outputs": [
    {
     "name": "stderr",
     "output_type": "stream",
     "text": [
      "/Users/matteopancini/opt/anaconda3/envs/notensor/lib/python3.9/site-packages/yahoo_fin/stock_info.py:295: FutureWarning: The frame.append method is deprecated and will be removed from pandas in a future version. Use pandas.concat instead.\n",
      "  data = tables[0].append(tables[1])\n",
      "/Users/matteopancini/opt/anaconda3/envs/notensor/lib/python3.9/site-packages/yahoo_fin/stock_info.py:302: FutureWarning: The frame.append method is deprecated and will be removed from pandas in a future version. Use pandas.concat instead.\n",
      "  data = data.append(quote_price)\n"
     ]
    },
    {
     "data": {
      "text/plain": "{'1y Target Est': 241.68,\n '52 Week Range': '101.81 - 299.29',\n 'Ask': '244.00 x 1300',\n 'Avg. Volume': 118791935.0,\n 'Beta (5Y Monthly)': 2.09,\n 'Bid': '0.00 x 900',\n \"Day's Range\": '244.48 - 257.79',\n 'EPS (TTM)': 3.43,\n 'Earnings Date': 'Oct 17, 2023 - Oct 23, 2023',\n 'Ex-Dividend Date': nan,\n 'Forward Dividend & Yield': 'N/A (N/A)',\n 'Market Cap': '777.247B',\n 'Open': 257.4,\n 'PE Ratio (TTM)': 71.39,\n 'Previous Close': 255.7,\n 'Quote Price': 244.8800048828125,\n 'Volume': 127275430.0}"
     },
     "execution_count": 47,
     "metadata": {},
     "output_type": "execute_result"
    }
   ],
   "source": [
    "stock_data = si.get_quote_table(ticker)\n",
    "stock_data"
   ],
   "metadata": {
    "collapsed": false,
    "ExecuteTime": {
     "end_time": "2023-09-25T10:29:32.828603Z",
     "start_time": "2023-09-25T10:29:29.811473Z"
    }
   },
   "id": "b42d2687bd9ae27b"
  },
  {
   "cell_type": "code",
   "execution_count": 48,
   "outputs": [
    {
     "data": {
      "text/plain": "                  open        high         low       close    adjclose  \\\n2010-06-29    1.266667    1.666667    1.169333    1.592667    1.592667   \n2010-06-30    1.719333    2.028000    1.553333    1.588667    1.588667   \n2010-07-01    1.666667    1.728000    1.351333    1.464000    1.464000   \n2010-07-02    1.533333    1.540000    1.247333    1.280000    1.280000   \n2010-07-06    1.333333    1.333333    1.055333    1.074000    1.074000   \n...                ...         ...         ...         ...         ...   \n2023-09-18  271.160004  271.440002  263.760010  265.279999  265.279999   \n2023-09-19  264.350006  267.850006  261.200012  266.500000  266.500000   \n2023-09-20  267.040009  273.929993  262.459991  262.589996  262.589996   \n2023-09-21  257.850006  260.859985  254.210007  255.699997  255.699997   \n2023-09-22  257.399994  257.790009  244.479996  244.880005  244.880005   \n\n               volume ticker  \n2010-06-29  281494500   TSLA  \n2010-06-30  257806500   TSLA  \n2010-07-01  123282000   TSLA  \n2010-07-02   77097000   TSLA  \n2010-07-06  103003500   TSLA  \n...               ...    ...  \n2023-09-18  101543300   TSLA  \n2023-09-19  103704000   TSLA  \n2023-09-20  122514600   TSLA  \n2023-09-21  119531000   TSLA  \n2023-09-22  127024300   TSLA  \n\n[3332 rows x 7 columns]",
      "text/html": "<div>\n<style scoped>\n    .dataframe tbody tr th:only-of-type {\n        vertical-align: middle;\n    }\n\n    .dataframe tbody tr th {\n        vertical-align: top;\n    }\n\n    .dataframe thead th {\n        text-align: right;\n    }\n</style>\n<table border=\"1\" class=\"dataframe\">\n  <thead>\n    <tr style=\"text-align: right;\">\n      <th></th>\n      <th>open</th>\n      <th>high</th>\n      <th>low</th>\n      <th>close</th>\n      <th>adjclose</th>\n      <th>volume</th>\n      <th>ticker</th>\n    </tr>\n  </thead>\n  <tbody>\n    <tr>\n      <th>2010-06-29</th>\n      <td>1.266667</td>\n      <td>1.666667</td>\n      <td>1.169333</td>\n      <td>1.592667</td>\n      <td>1.592667</td>\n      <td>281494500</td>\n      <td>TSLA</td>\n    </tr>\n    <tr>\n      <th>2010-06-30</th>\n      <td>1.719333</td>\n      <td>2.028000</td>\n      <td>1.553333</td>\n      <td>1.588667</td>\n      <td>1.588667</td>\n      <td>257806500</td>\n      <td>TSLA</td>\n    </tr>\n    <tr>\n      <th>2010-07-01</th>\n      <td>1.666667</td>\n      <td>1.728000</td>\n      <td>1.351333</td>\n      <td>1.464000</td>\n      <td>1.464000</td>\n      <td>123282000</td>\n      <td>TSLA</td>\n    </tr>\n    <tr>\n      <th>2010-07-02</th>\n      <td>1.533333</td>\n      <td>1.540000</td>\n      <td>1.247333</td>\n      <td>1.280000</td>\n      <td>1.280000</td>\n      <td>77097000</td>\n      <td>TSLA</td>\n    </tr>\n    <tr>\n      <th>2010-07-06</th>\n      <td>1.333333</td>\n      <td>1.333333</td>\n      <td>1.055333</td>\n      <td>1.074000</td>\n      <td>1.074000</td>\n      <td>103003500</td>\n      <td>TSLA</td>\n    </tr>\n    <tr>\n      <th>...</th>\n      <td>...</td>\n      <td>...</td>\n      <td>...</td>\n      <td>...</td>\n      <td>...</td>\n      <td>...</td>\n      <td>...</td>\n    </tr>\n    <tr>\n      <th>2023-09-18</th>\n      <td>271.160004</td>\n      <td>271.440002</td>\n      <td>263.760010</td>\n      <td>265.279999</td>\n      <td>265.279999</td>\n      <td>101543300</td>\n      <td>TSLA</td>\n    </tr>\n    <tr>\n      <th>2023-09-19</th>\n      <td>264.350006</td>\n      <td>267.850006</td>\n      <td>261.200012</td>\n      <td>266.500000</td>\n      <td>266.500000</td>\n      <td>103704000</td>\n      <td>TSLA</td>\n    </tr>\n    <tr>\n      <th>2023-09-20</th>\n      <td>267.040009</td>\n      <td>273.929993</td>\n      <td>262.459991</td>\n      <td>262.589996</td>\n      <td>262.589996</td>\n      <td>122514600</td>\n      <td>TSLA</td>\n    </tr>\n    <tr>\n      <th>2023-09-21</th>\n      <td>257.850006</td>\n      <td>260.859985</td>\n      <td>254.210007</td>\n      <td>255.699997</td>\n      <td>255.699997</td>\n      <td>119531000</td>\n      <td>TSLA</td>\n    </tr>\n    <tr>\n      <th>2023-09-22</th>\n      <td>257.399994</td>\n      <td>257.790009</td>\n      <td>244.479996</td>\n      <td>244.880005</td>\n      <td>244.880005</td>\n      <td>127024300</td>\n      <td>TSLA</td>\n    </tr>\n  </tbody>\n</table>\n<p>3332 rows × 7 columns</p>\n</div>"
     },
     "execution_count": 48,
     "metadata": {},
     "output_type": "execute_result"
    }
   ],
   "source": [
    "historical_data = si.get_data(ticker)\n",
    "historical_data"
   ],
   "metadata": {
    "collapsed": false,
    "ExecuteTime": {
     "end_time": "2023-09-25T10:29:48.613186Z",
     "start_time": "2023-09-25T10:29:48.390564Z"
    }
   },
   "id": "fa67879a743c4543"
  },
  {
   "cell_type": "code",
   "execution_count": 49,
   "outputs": [],
   "source": [
    "# List of symbols you're interested in\n",
    "fred_symbols = ['UNRATE', 'GDP', 'FEDFUNDS', 'CPIAUCNS', 'M2', 'DGS10', 'PCE', 'T10Y2Y', 'USROA', 'USROE', 'WTISPLC', 'HOUST', 'INDPRO', 'PAYEMS', 'BAMLH0A0HYM2', 'GS10', 'BASE', 'RIFSPPFAAD01NB', 'EXUSEU', 'NETEXP']"
   ],
   "metadata": {
    "collapsed": false,
    "ExecuteTime": {
     "end_time": "2023-09-25T10:29:59.056928Z",
     "start_time": "2023-09-25T10:29:59.049335Z"
    }
   },
   "id": "a4163ed4aa328f4"
  },
  {
   "cell_type": "code",
   "execution_count": 50,
   "outputs": [
    {
     "data": {
      "text/plain": "            UNRATE        GDP  FEDFUNDS  CPIAUCNS      M2  DGS10      PCE  \\\nDATE                                                                        \n2010-01-01     9.8  14764.611      0.11   216.687     NaN    NaN  10056.1   \n2010-01-04     NaN        NaN       NaN       NaN  8451.4   3.85      NaN   \n2010-01-05     NaN        NaN       NaN       NaN     NaN   3.77      NaN   \n2010-01-06     NaN        NaN       NaN       NaN     NaN   3.85      NaN   \n2010-01-07     NaN        NaN       NaN       NaN     NaN   3.85      NaN   \n...            ...        ...       ...       ...     ...    ...      ...   \n2022-12-28     NaN        NaN       NaN       NaN     NaN   3.88      NaN   \n2022-12-29     NaN        NaN       NaN       NaN     NaN   3.83      NaN   \n2022-12-30     NaN        NaN       NaN       NaN     NaN   3.88      NaN   \n2022-12-31     NaN        NaN       NaN       NaN     NaN    NaN      NaN   \n2023-01-01     3.4  26529.774      4.33   299.170     NaN    NaN  18076.6   \n\n            T10Y2Y  USROA  USROE  WTISPLC   HOUST    INDPRO    PAYEMS  \\\nDATE                                                                    \n2010-01-01     NaN   0.49    4.8    78.22   614.0   89.1911  129798.0   \n2010-01-04    2.76    NaN    NaN      NaN     NaN       NaN       NaN   \n2010-01-05    2.76    NaN    NaN      NaN     NaN       NaN       NaN   \n2010-01-06    2.84    NaN    NaN      NaN     NaN       NaN       NaN   \n2010-01-07    2.82    NaN    NaN      NaN     NaN       NaN       NaN   \n...            ...    ...    ...      ...     ...       ...       ...   \n2022-12-28   -0.43    NaN    NaN      NaN     NaN       NaN       NaN   \n2022-12-29   -0.51    NaN    NaN      NaN     NaN       NaN       NaN   \n2022-12-30   -0.53    NaN    NaN      NaN     NaN       NaN       NaN   \n2022-12-31     NaN    NaN    NaN      NaN     NaN       NaN       NaN   \n2023-01-01     NaN    NaN    NaN    78.12  1340.0  102.5478  155007.0   \n\n            BAMLH0A0HYM2  GS10  BASE  RIFSPPFAAD01NB  EXUSEU   NETEXP  \nDATE                                                                   \n2010-01-01           NaN  3.73   NaN             NaN  1.4266 -509.192  \n2010-01-04          6.34   NaN   NaN            0.13     NaN      NaN  \n2010-01-05          6.30   NaN   NaN            0.12     NaN      NaN  \n2010-01-06          6.17   NaN   NaN            0.10     NaN      NaN  \n2010-01-07          6.03   NaN   NaN            0.10     NaN      NaN  \n...                  ...   ...   ...             ...     ...      ...  \n2022-12-28          4.77   NaN   NaN            4.30     NaN      NaN  \n2022-12-29          4.81   NaN   NaN            4.30     NaN      NaN  \n2022-12-30          4.79   NaN   NaN            4.29     NaN      NaN  \n2022-12-31          4.81   NaN   NaN             NaN     NaN      NaN  \n2023-01-01           NaN  3.53   NaN             NaN  1.0777 -802.343  \n\n[3479 rows x 20 columns]",
      "text/html": "<div>\n<style scoped>\n    .dataframe tbody tr th:only-of-type {\n        vertical-align: middle;\n    }\n\n    .dataframe tbody tr th {\n        vertical-align: top;\n    }\n\n    .dataframe thead th {\n        text-align: right;\n    }\n</style>\n<table border=\"1\" class=\"dataframe\">\n  <thead>\n    <tr style=\"text-align: right;\">\n      <th></th>\n      <th>UNRATE</th>\n      <th>GDP</th>\n      <th>FEDFUNDS</th>\n      <th>CPIAUCNS</th>\n      <th>M2</th>\n      <th>DGS10</th>\n      <th>PCE</th>\n      <th>T10Y2Y</th>\n      <th>USROA</th>\n      <th>USROE</th>\n      <th>WTISPLC</th>\n      <th>HOUST</th>\n      <th>INDPRO</th>\n      <th>PAYEMS</th>\n      <th>BAMLH0A0HYM2</th>\n      <th>GS10</th>\n      <th>BASE</th>\n      <th>RIFSPPFAAD01NB</th>\n      <th>EXUSEU</th>\n      <th>NETEXP</th>\n    </tr>\n    <tr>\n      <th>DATE</th>\n      <th></th>\n      <th></th>\n      <th></th>\n      <th></th>\n      <th></th>\n      <th></th>\n      <th></th>\n      <th></th>\n      <th></th>\n      <th></th>\n      <th></th>\n      <th></th>\n      <th></th>\n      <th></th>\n      <th></th>\n      <th></th>\n      <th></th>\n      <th></th>\n      <th></th>\n      <th></th>\n    </tr>\n  </thead>\n  <tbody>\n    <tr>\n      <th>2010-01-01</th>\n      <td>9.8</td>\n      <td>14764.611</td>\n      <td>0.11</td>\n      <td>216.687</td>\n      <td>NaN</td>\n      <td>NaN</td>\n      <td>10056.1</td>\n      <td>NaN</td>\n      <td>0.49</td>\n      <td>4.8</td>\n      <td>78.22</td>\n      <td>614.0</td>\n      <td>89.1911</td>\n      <td>129798.0</td>\n      <td>NaN</td>\n      <td>3.73</td>\n      <td>NaN</td>\n      <td>NaN</td>\n      <td>1.4266</td>\n      <td>-509.192</td>\n    </tr>\n    <tr>\n      <th>2010-01-04</th>\n      <td>NaN</td>\n      <td>NaN</td>\n      <td>NaN</td>\n      <td>NaN</td>\n      <td>8451.4</td>\n      <td>3.85</td>\n      <td>NaN</td>\n      <td>2.76</td>\n      <td>NaN</td>\n      <td>NaN</td>\n      <td>NaN</td>\n      <td>NaN</td>\n      <td>NaN</td>\n      <td>NaN</td>\n      <td>6.34</td>\n      <td>NaN</td>\n      <td>NaN</td>\n      <td>0.13</td>\n      <td>NaN</td>\n      <td>NaN</td>\n    </tr>\n    <tr>\n      <th>2010-01-05</th>\n      <td>NaN</td>\n      <td>NaN</td>\n      <td>NaN</td>\n      <td>NaN</td>\n      <td>NaN</td>\n      <td>3.77</td>\n      <td>NaN</td>\n      <td>2.76</td>\n      <td>NaN</td>\n      <td>NaN</td>\n      <td>NaN</td>\n      <td>NaN</td>\n      <td>NaN</td>\n      <td>NaN</td>\n      <td>6.30</td>\n      <td>NaN</td>\n      <td>NaN</td>\n      <td>0.12</td>\n      <td>NaN</td>\n      <td>NaN</td>\n    </tr>\n    <tr>\n      <th>2010-01-06</th>\n      <td>NaN</td>\n      <td>NaN</td>\n      <td>NaN</td>\n      <td>NaN</td>\n      <td>NaN</td>\n      <td>3.85</td>\n      <td>NaN</td>\n      <td>2.84</td>\n      <td>NaN</td>\n      <td>NaN</td>\n      <td>NaN</td>\n      <td>NaN</td>\n      <td>NaN</td>\n      <td>NaN</td>\n      <td>6.17</td>\n      <td>NaN</td>\n      <td>NaN</td>\n      <td>0.10</td>\n      <td>NaN</td>\n      <td>NaN</td>\n    </tr>\n    <tr>\n      <th>2010-01-07</th>\n      <td>NaN</td>\n      <td>NaN</td>\n      <td>NaN</td>\n      <td>NaN</td>\n      <td>NaN</td>\n      <td>3.85</td>\n      <td>NaN</td>\n      <td>2.82</td>\n      <td>NaN</td>\n      <td>NaN</td>\n      <td>NaN</td>\n      <td>NaN</td>\n      <td>NaN</td>\n      <td>NaN</td>\n      <td>6.03</td>\n      <td>NaN</td>\n      <td>NaN</td>\n      <td>0.10</td>\n      <td>NaN</td>\n      <td>NaN</td>\n    </tr>\n    <tr>\n      <th>...</th>\n      <td>...</td>\n      <td>...</td>\n      <td>...</td>\n      <td>...</td>\n      <td>...</td>\n      <td>...</td>\n      <td>...</td>\n      <td>...</td>\n      <td>...</td>\n      <td>...</td>\n      <td>...</td>\n      <td>...</td>\n      <td>...</td>\n      <td>...</td>\n      <td>...</td>\n      <td>...</td>\n      <td>...</td>\n      <td>...</td>\n      <td>...</td>\n      <td>...</td>\n    </tr>\n    <tr>\n      <th>2022-12-28</th>\n      <td>NaN</td>\n      <td>NaN</td>\n      <td>NaN</td>\n      <td>NaN</td>\n      <td>NaN</td>\n      <td>3.88</td>\n      <td>NaN</td>\n      <td>-0.43</td>\n      <td>NaN</td>\n      <td>NaN</td>\n      <td>NaN</td>\n      <td>NaN</td>\n      <td>NaN</td>\n      <td>NaN</td>\n      <td>4.77</td>\n      <td>NaN</td>\n      <td>NaN</td>\n      <td>4.30</td>\n      <td>NaN</td>\n      <td>NaN</td>\n    </tr>\n    <tr>\n      <th>2022-12-29</th>\n      <td>NaN</td>\n      <td>NaN</td>\n      <td>NaN</td>\n      <td>NaN</td>\n      <td>NaN</td>\n      <td>3.83</td>\n      <td>NaN</td>\n      <td>-0.51</td>\n      <td>NaN</td>\n      <td>NaN</td>\n      <td>NaN</td>\n      <td>NaN</td>\n      <td>NaN</td>\n      <td>NaN</td>\n      <td>4.81</td>\n      <td>NaN</td>\n      <td>NaN</td>\n      <td>4.30</td>\n      <td>NaN</td>\n      <td>NaN</td>\n    </tr>\n    <tr>\n      <th>2022-12-30</th>\n      <td>NaN</td>\n      <td>NaN</td>\n      <td>NaN</td>\n      <td>NaN</td>\n      <td>NaN</td>\n      <td>3.88</td>\n      <td>NaN</td>\n      <td>-0.53</td>\n      <td>NaN</td>\n      <td>NaN</td>\n      <td>NaN</td>\n      <td>NaN</td>\n      <td>NaN</td>\n      <td>NaN</td>\n      <td>4.79</td>\n      <td>NaN</td>\n      <td>NaN</td>\n      <td>4.29</td>\n      <td>NaN</td>\n      <td>NaN</td>\n    </tr>\n    <tr>\n      <th>2022-12-31</th>\n      <td>NaN</td>\n      <td>NaN</td>\n      <td>NaN</td>\n      <td>NaN</td>\n      <td>NaN</td>\n      <td>NaN</td>\n      <td>NaN</td>\n      <td>NaN</td>\n      <td>NaN</td>\n      <td>NaN</td>\n      <td>NaN</td>\n      <td>NaN</td>\n      <td>NaN</td>\n      <td>NaN</td>\n      <td>4.81</td>\n      <td>NaN</td>\n      <td>NaN</td>\n      <td>NaN</td>\n      <td>NaN</td>\n      <td>NaN</td>\n    </tr>\n    <tr>\n      <th>2023-01-01</th>\n      <td>3.4</td>\n      <td>26529.774</td>\n      <td>4.33</td>\n      <td>299.170</td>\n      <td>NaN</td>\n      <td>NaN</td>\n      <td>18076.6</td>\n      <td>NaN</td>\n      <td>NaN</td>\n      <td>NaN</td>\n      <td>78.12</td>\n      <td>1340.0</td>\n      <td>102.5478</td>\n      <td>155007.0</td>\n      <td>NaN</td>\n      <td>3.53</td>\n      <td>NaN</td>\n      <td>NaN</td>\n      <td>1.0777</td>\n      <td>-802.343</td>\n    </tr>\n  </tbody>\n</table>\n<p>3479 rows × 20 columns</p>\n</div>"
     },
     "execution_count": 50,
     "metadata": {},
     "output_type": "execute_result"
    }
   ],
   "source": [
    "fred_df = pdr.get_data_fred(fred_symbols, start_date, end_date)\n",
    "fred_df"
   ],
   "metadata": {
    "collapsed": false,
    "ExecuteTime": {
     "end_time": "2023-09-25T10:30:11.814609Z",
     "start_time": "2023-09-25T10:29:59.578894Z"
    }
   },
   "id": "d8323d584c6915ef"
  },
  {
   "cell_type": "code",
   "execution_count": null,
   "outputs": [],
   "source": [],
   "metadata": {
    "collapsed": false
   },
   "id": "716a3731d2d7c188"
  }
 ],
 "metadata": {
  "kernelspec": {
   "display_name": "Python 3",
   "language": "python",
   "name": "python3"
  },
  "language_info": {
   "codemirror_mode": {
    "name": "ipython",
    "version": 2
   },
   "file_extension": ".py",
   "mimetype": "text/x-python",
   "name": "python",
   "nbconvert_exporter": "python",
   "pygments_lexer": "ipython2",
   "version": "2.7.6"
  }
 },
 "nbformat": 4,
 "nbformat_minor": 5
}
