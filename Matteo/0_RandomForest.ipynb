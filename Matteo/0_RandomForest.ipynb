{
 "cells": [
  {
   "cell_type": "code",
   "execution_count": 1,
   "id": "initial_id",
   "metadata": {
    "collapsed": true,
    "ExecuteTime": {
     "end_time": "2023-10-01T12:34:56.172182Z",
     "start_time": "2023-10-01T12:34:54.162900Z"
    }
   },
   "outputs": [],
   "source": [
    "from pyspark.ml.regression import LinearRegression\n",
    "from pyspark.ml.evaluation import RegressionEvaluator\n",
    "from pyspark.ml.feature import VectorAssembler\n",
    "from yahoo_fin import stock_info as si\n",
    "import datetime as dt\n",
    "from pyspark.ml import Pipeline\n",
    "import pandas_datareader as pdr\n",
    "import matplotlib.pyplot as plt\n",
    "from pyspark.sql.functions import year, month, dayofmonth, concat, lit, lpad, col, collect_list\n",
    "from pyspark.sql import SparkSession\n",
    "from pyspark.sql.functions import monotonically_increasing_id\n",
    "import pyspark.sql.functions as F\n",
    "from pyspark.ml.regression import RandomForestRegressor\n",
    "from pyspark.ml.tuning import ParamGridBuilder, CrossValidator"
   ]
  },
  {
   "cell_type": "markdown",
   "source": [
    "# Data Collection"
   ],
   "metadata": {
    "collapsed": false
   },
   "id": "d10d23aa8e072ef"
  },
  {
   "cell_type": "code",
   "execution_count": 2,
   "outputs": [],
   "source": [
    "ticker = 'TSLA'\n",
    "start_date = dt.datetime(2013, 9, 30)\n",
    "end_date = dt.datetime(2023, 1, 1)\n",
    "fred_symbols = ['SP500', 'DJIA', 'NASDAQCOM', 'VIXCLS', 'GVZCLS', 'DTWEXBGS', 'IUDSOIA', 'BAMLHE00EHYIEY', 'DFF', 'T10Y2Y', 'DGS10', 'T10YIE', 'T5YIE', 'DTB3']"
   ],
   "metadata": {
    "collapsed": false,
    "ExecuteTime": {
     "end_time": "2023-10-01T12:34:56.178351Z",
     "start_time": "2023-10-01T12:34:56.174719Z"
    }
   },
   "id": "cafe69a8b429b63a"
  },
  {
   "cell_type": "code",
   "execution_count": 3,
   "outputs": [],
   "source": [
    "historical_data = si.get_data(ticker, start_date, end_date, interval='1d')\n",
    "fred_df = pdr.get_data_fred(fred_symbols, start_date, end_date)"
   ],
   "metadata": {
    "collapsed": false,
    "ExecuteTime": {
     "end_time": "2023-10-01T12:34:59.879190Z",
     "start_time": "2023-10-01T12:34:56.178764Z"
    }
   },
   "id": "5132e82f591811da"
  },
  {
   "cell_type": "markdown",
   "source": [
    "# Data Pre-Processing with Spark"
   ],
   "metadata": {
    "collapsed": false
   },
   "id": "45ddcfaad26822f4"
  },
  {
   "cell_type": "code",
   "execution_count": 4,
   "outputs": [
    {
     "name": "stderr",
     "output_type": "stream",
     "text": [
      "Setting default log level to \"WARN\".\n",
      "To adjust logging level use sc.setLogLevel(newLevel). For SparkR, use setLogLevel(newLevel).\n",
      "23/10/01 14:35:01 WARN NativeCodeLoader: Unable to load native-hadoop library for your platform... using builtin-java classes where applicable\n"
     ]
    }
   ],
   "source": [
    "# Initialize SparkSession\n",
    "spark = SparkSession.builder \\\n",
    "    .appName(\"StockPrediction\") \\\n",
    "    .config(\"spark.sql.debug.maxToStringFields\", \"100\") \\\n",
    "    .config(\"spark.driver.maxResultSize\", \"512m\") \\\n",
    "    .config(\"spark.executor.memory\", \"512m\") \\\n",
    "    .config(\"spark.driver.memory\", \"512m\") \\\n",
    "    .getOrCreate()"
   ],
   "metadata": {
    "collapsed": false,
    "ExecuteTime": {
     "end_time": "2023-10-01T12:35:01.980938Z",
     "start_time": "2023-10-01T12:34:59.881352Z"
    }
   },
   "id": "31a57cc4f875483"
  },
  {
   "cell_type": "code",
   "execution_count": 5,
   "outputs": [],
   "source": [
    "historical_data_spark = spark.createDataFrame(historical_data.reset_index())\n",
    "fred_df_spark = spark.createDataFrame(fred_df.reset_index())"
   ],
   "metadata": {
    "collapsed": false,
    "ExecuteTime": {
     "end_time": "2023-10-01T12:35:04.079508Z",
     "start_time": "2023-10-01T12:35:01.985591Z"
    }
   },
   "id": "188fdec6082b3bb8"
  },
  {
   "cell_type": "code",
   "execution_count": 6,
   "outputs": [],
   "source": [
    "historical_data_spark = historical_data_spark.withColumnRenamed(\"index\", \"DATE\")\n",
    "historical_data_spark = historical_data_spark.drop('ticker', 'adjclose')\n",
    "\n",
    "historical_data_spark = historical_data_spark.withColumn(\"year\", year(\"DATE\"))\n",
    "historical_data_spark = historical_data_spark.withColumn(\"month\", month(\"DATE\"))\n",
    "historical_data_spark = historical_data_spark.withColumn(\"day\", dayofmonth(\"DATE\"))\n",
    "historical_data_spark = historical_data_spark.withColumn('fulldate', concat(historical_data_spark['year'],\n",
    "                                       lpad(historical_data_spark['month'], 2, '0'),\n",
    "                                       lpad(historical_data_spark['day'], 2, '0')))\n",
    "historical_data_spark = historical_data_spark.withColumn('fulldate', historical_data_spark['fulldate'].cast('int'))"
   ],
   "metadata": {
    "collapsed": false,
    "ExecuteTime": {
     "end_time": "2023-10-01T12:35:04.210295Z",
     "start_time": "2023-10-01T12:35:04.081856Z"
    }
   },
   "id": "9257e51c06f55fef"
  },
  {
   "cell_type": "code",
   "execution_count": 7,
   "outputs": [],
   "source": [
    "fred_df_spark = fred_df_spark.withColumn(\"Index\", monotonically_increasing_id())\n",
    "#fred_df_spark.show()"
   ],
   "metadata": {
    "collapsed": false,
    "ExecuteTime": {
     "end_time": "2023-10-01T12:35:04.221401Z",
     "start_time": "2023-10-01T12:35:04.211280Z"
    }
   },
   "id": "536e1555f4f7217a"
  },
  {
   "cell_type": "code",
   "execution_count": 8,
   "outputs": [],
   "source": [
    "dataset_spark = historical_data_spark.join(fred_df_spark, on=\"DATE\", how=\"left\")\n",
    "dataset_spark = dataset_spark.orderBy(\"DATE\")\n",
    "dataset_spark = dataset_spark.withColumn(\"Index\", monotonically_increasing_id())\n",
    "dataset_spark = dataset_spark.drop(\"DATE\")\n",
    "#dataset_spark.show()"
   ],
   "metadata": {
    "collapsed": false,
    "ExecuteTime": {
     "end_time": "2023-10-01T12:35:04.276349Z",
     "start_time": "2023-10-01T12:35:04.222524Z"
    }
   },
   "id": "b76706a56a1bb8c1"
  },
  {
   "cell_type": "code",
   "execution_count": 9,
   "outputs": [
    {
     "name": "stderr",
     "output_type": "stream",
     "text": [
      "Java HotSpot(TM) 64-Bit Server VM warning: CodeCache is full. Compiler has been disabled.\n",
      "Java HotSpot(TM) 64-Bit Server VM warning: Try increasing the code cache size using -XX:ReservedCodeCacheSize=\n",
      "[Stage 0:>                (0 + 10) / 10][Stage 1:>                 (0 + 5) / 10]\r"
     ]
    },
    {
     "name": "stdout",
     "output_type": "stream",
     "text": [
      "CodeCache: size=131072Kb used=17201Kb max_used=17212Kb free=113870Kb\n",
      " bounds [0x0000000106e10000, 0x0000000107ef0000, 0x000000010ee10000]\n",
      " total_blobs=7195 nmethods=6358 adapters=750\n",
      " compilation: disabled (not enough contiguous free space left)\n",
      "Number of rows in the DataFrame:  2331\n"
     ]
    },
    {
     "name": "stderr",
     "output_type": "stream",
     "text": [
      "                                                                                \r"
     ]
    }
   ],
   "source": [
    "# Assuming 'df' is your Spark DataFrame\n",
    "row_count = dataset_spark.count()\n",
    "\n",
    "# Print the row count\n",
    "print(\"Number of rows in the DataFrame: \", row_count)"
   ],
   "metadata": {
    "collapsed": false,
    "ExecuteTime": {
     "end_time": "2023-10-01T12:35:06.969009Z",
     "start_time": "2023-10-01T12:35:04.277661Z"
    }
   },
   "id": "1cf66715579363d1"
  },
  {
   "cell_type": "code",
   "execution_count": 10,
   "outputs": [
    {
     "name": "stdout",
     "output_type": "stream",
     "text": [
      "+----+----+---+-----+------+----+-----+---+--------+-----+----+---------+------+------+--------+-------+--------------+---+------+-----+------+-----+----+-----+\n",
      "|open|high|low|close|volume|year|month|day|fulldate|SP500|DJIA|NASDAQCOM|VIXCLS|GVZCLS|DTWEXBGS|IUDSOIA|BAMLHE00EHYIEY|DFF|T10Y2Y|DGS10|T10YIE|T5YIE|DTB3|Index|\n",
      "+----+----+---+-----+------+----+-----+---+--------+-----+----+---------+------+------+--------+-------+--------------+---+------+-----+------+-----+----+-----+\n",
      "|   0|   0|  0|    0|     0|   0|    0|  0|       0|    0|   0|        0|     0|     0|      41|     42|             1|  0|    19|   19|    19|   19|  19|    0|\n",
      "+----+----+---+-----+------+----+-----+---+--------+-----+----+---------+------+------+--------+-------+--------------+---+------+-----+------+-----+----+-----+\n"
     ]
    }
   ],
   "source": [
    "#Count null values in each column\n",
    "dataset_spark.select([F.count(F.when(F.isnan(c) | F.col(c).isNull(), c)).alias(c) for c in dataset_spark.columns]).show()"
   ],
   "metadata": {
    "collapsed": false,
    "ExecuteTime": {
     "end_time": "2023-10-01T12:35:08.215999Z",
     "start_time": "2023-10-01T12:35:06.970099Z"
    }
   },
   "id": "2d16949e0254bbf0"
  },
  {
   "cell_type": "code",
   "execution_count": 11,
   "outputs": [],
   "source": [
    "# Drop rows where 'column1' or 'column2' have null values\n",
    "dataset_spark = dataset_spark.dropna()\n",
    "#dataset_spark.show()"
   ],
   "metadata": {
    "collapsed": false,
    "ExecuteTime": {
     "end_time": "2023-10-01T12:35:08.230895Z",
     "start_time": "2023-10-01T12:35:08.216868Z"
    }
   },
   "id": "64e75f2c741fe0c0"
  },
  {
   "cell_type": "code",
   "execution_count": 12,
   "outputs": [
    {
     "name": "stdout",
     "output_type": "stream",
     "text": [
      "Number of rows in the DataFrame:  2248\n"
     ]
    }
   ],
   "source": [
    "# Assuming 'df' is your Spark DataFrame\n",
    "row_count = dataset_spark.count()\n",
    "\n",
    "# Print the row count\n",
    "print(\"Number of rows in the DataFrame: \", row_count)"
   ],
   "metadata": {
    "collapsed": false,
    "ExecuteTime": {
     "end_time": "2023-10-01T12:35:09.019863Z",
     "start_time": "2023-10-01T12:35:08.232032Z"
    }
   },
   "id": "588f9207945c41af"
  },
  {
   "cell_type": "markdown",
   "source": [
    "# MLLib"
   ],
   "metadata": {
    "collapsed": false
   },
   "id": "c949be5ddcf010a9"
  },
  {
   "cell_type": "code",
   "execution_count": 13,
   "outputs": [],
   "source": [
    "# Prepare data for MLlib\n",
    "feature_columns = [col_name for col_name in dataset_spark.columns if col_name != 'close']\n",
    "vector_assembler = VectorAssembler(inputCols=feature_columns, outputCol=\"features\")\n",
    "# Determine the split point based on the desired ratio\n",
    "split_ratio = 0.8  # 80% for training, 20% for testing\n",
    "split_point = int(dataset_spark.count() * split_ratio)\n",
    "\n",
    "# Split the data into training and testing sets\n",
    "train_data = dataset_spark.limit(split_point)\n",
    "test_data = dataset_spark.subtract(train_data)\n",
    "\n",
    "# Reorder by index\n",
    "train_data = train_data.orderBy(\"Index\")\n",
    "test_data = test_data.orderBy(\"Index\")"
   ],
   "metadata": {
    "collapsed": false,
    "ExecuteTime": {
     "end_time": "2023-10-01T12:35:09.802801Z",
     "start_time": "2023-10-01T12:35:09.022475Z"
    }
   },
   "id": "7891fd4d136afa1a"
  },
  {
   "cell_type": "markdown",
   "source": [
    "# Random Forest Regressor"
   ],
   "metadata": {
    "collapsed": false
   },
   "id": "ff28a6e79846b0df"
  },
  {
   "cell_type": "code",
   "execution_count": 42,
   "outputs": [],
   "source": [
    "# Create a Random Forest Regressor model\n",
    "rf = RandomForestRegressor(labelCol='close', featuresCol='features', numTrees=10)"
   ],
   "metadata": {
    "collapsed": false,
    "ExecuteTime": {
     "end_time": "2023-10-01T12:44:37.160606Z",
     "start_time": "2023-10-01T12:44:37.145762Z"
    }
   },
   "id": "dc08e8a760222bf9"
  },
  {
   "cell_type": "code",
   "execution_count": 43,
   "outputs": [],
   "source": [
    "pipeline = Pipeline(stages=[vector_assembler, rf])"
   ],
   "metadata": {
    "collapsed": false,
    "ExecuteTime": {
     "end_time": "2023-10-01T12:44:37.306220Z",
     "start_time": "2023-10-01T12:44:37.301019Z"
    }
   },
   "id": "142d5db79de7f370"
  },
  {
   "cell_type": "code",
   "execution_count": 44,
   "outputs": [
    {
     "name": "stderr",
     "output_type": "stream",
     "text": [
      "                                                                                \r"
     ]
    }
   ],
   "source": [
    "# Fit the Random Forest Regressor model\n",
    "rf_model = pipeline.fit(train_data)"
   ],
   "metadata": {
    "collapsed": false,
    "ExecuteTime": {
     "end_time": "2023-10-01T12:44:38.565209Z",
     "start_time": "2023-10-01T12:44:37.444913Z"
    }
   },
   "id": "e907896e1218e0ca"
  },
  {
   "cell_type": "code",
   "execution_count": 45,
   "outputs": [
    {
     "data": {
      "text/plain": "69.06557744135338"
     },
     "execution_count": 45,
     "metadata": {},
     "output_type": "execute_result"
    }
   ],
   "source": [
    "# Model Evaluation in Spark\n",
    "# Make predictions using the Random Forest Regressor model\n",
    "rf_predictions = rf_model.transform(test_data)\n",
    "# Evaluate the Random Forest Regressor model\n",
    "evaluator = RegressionEvaluator(labelCol=\"close\", predictionCol=\"prediction\", metricName=\"rmse\")\n",
    "rf_rmse = evaluator.evaluate(rf_predictions)\n",
    "rf_rmse"
   ],
   "metadata": {
    "collapsed": false,
    "ExecuteTime": {
     "end_time": "2023-10-01T12:44:44.783005Z",
     "start_time": "2023-10-01T12:44:43.857227Z"
    }
   },
   "id": "af3632118abab185"
  },
  {
   "cell_type": "markdown",
   "source": [
    "# Hyperparameter Tuning"
   ],
   "metadata": {
    "collapsed": false
   },
   "id": "afe083332ba852a7"
  },
  {
   "cell_type": "code",
   "execution_count": 21,
   "outputs": [],
   "source": [
    "param_grid = ParamGridBuilder() \\\n",
    "    .addGrid(rf.numTrees, [50, 100, 150]) \\\n",
    "    .addGrid(rf.maxDepth, [5, 10, 15]) \\\n",
    "    .build()"
   ],
   "metadata": {
    "collapsed": false,
    "ExecuteTime": {
     "end_time": "2023-10-01T12:37:07.104865Z",
     "start_time": "2023-10-01T12:37:07.093840Z"
    }
   },
   "id": "eecb46b11d37d848"
  },
  {
   "cell_type": "code",
   "execution_count": 28,
   "outputs": [],
   "source": [
    "crossval = CrossValidator(estimator=pipeline,\n",
    "                          estimatorParamMaps=param_grid,\n",
    "                          evaluator=evaluator,\n",
    "                          numFolds=30)  # You can adjust the number of folds as needed"
   ],
   "metadata": {
    "collapsed": false,
    "ExecuteTime": {
     "end_time": "2023-10-01T12:39:47.421757Z",
     "start_time": "2023-10-01T12:39:47.411779Z"
    }
   },
   "id": "135466a37133bae7"
  },
  {
   "cell_type": "code",
   "execution_count": 29,
   "outputs": [
    {
     "name": "stderr",
     "output_type": "stream",
     "text": [
      "23/10/01 14:39:53 WARN DAGScheduler: Broadcasting large task binary with size 1480.5 KiB\n",
      "23/10/01 14:39:53 WARN DAGScheduler: Broadcasting large task binary with size 2.1 MiB\n",
      "23/10/01 14:39:54 WARN DAGScheduler: Broadcasting large task binary with size 3.0 MiB\n",
      "23/10/01 14:39:55 WARN DAGScheduler: Broadcasting large task binary with size 1480.5 KiB\n",
      "23/10/01 14:39:56 WARN DAGScheduler: Broadcasting large task binary with size 2.1 MiB\n",
      "23/10/01 14:39:56 WARN DAGScheduler: Broadcasting large task binary with size 3.0 MiB\n",
      "23/10/01 14:39:57 WARN DAGScheduler: Broadcasting large task binary with size 4.2 MiB\n",
      "23/10/01 14:39:58 WARN DAGScheduler: Broadcasting large task binary with size 5.7 MiB\n",
      "23/10/01 14:39:59 WARN DAGScheduler: Broadcasting large task binary with size 7.3 MiB\n",
      "23/10/01 14:40:00 WARN DAGScheduler: Broadcasting large task binary with size 9.0 MiB\n",
      "23/10/01 14:40:01 WARN DAGScheduler: Broadcasting large task binary with size 10.5 MiB\n"
     ]
    },
    {
     "ename": "KeyboardInterrupt",
     "evalue": "",
     "output_type": "error",
     "traceback": [
      "\u001B[0;31m---------------------------------------------------------------------------\u001B[0m",
      "\u001B[0;31mIndexError\u001B[0m                                Traceback (most recent call last)",
      "\u001B[0;32m~/opt/anaconda3/envs/notensor/lib/python3.9/multiprocessing/pool.py\u001B[0m in \u001B[0;36mnext\u001B[0;34m(self, timeout)\u001B[0m\n\u001B[1;32m    852\u001B[0m             \u001B[0;32mtry\u001B[0m\u001B[0;34m:\u001B[0m\u001B[0;34m\u001B[0m\u001B[0;34m\u001B[0m\u001B[0m\n\u001B[0;32m--> 853\u001B[0;31m                 \u001B[0mitem\u001B[0m \u001B[0;34m=\u001B[0m \u001B[0mself\u001B[0m\u001B[0;34m.\u001B[0m\u001B[0m_items\u001B[0m\u001B[0;34m.\u001B[0m\u001B[0mpopleft\u001B[0m\u001B[0;34m(\u001B[0m\u001B[0;34m)\u001B[0m\u001B[0;34m\u001B[0m\u001B[0;34m\u001B[0m\u001B[0m\n\u001B[0m\u001B[1;32m    854\u001B[0m             \u001B[0;32mexcept\u001B[0m \u001B[0mIndexError\u001B[0m\u001B[0;34m:\u001B[0m\u001B[0;34m\u001B[0m\u001B[0;34m\u001B[0m\u001B[0m\n",
      "\u001B[0;31mIndexError\u001B[0m: pop from an empty deque",
      "\nDuring handling of the above exception, another exception occurred:\n",
      "\u001B[0;31mKeyboardInterrupt\u001B[0m                         Traceback (most recent call last)",
      "\u001B[0;32m/var/folders/tt/9v6608x550n51759gpcrffsc0000gn/T/ipykernel_20568/3123838006.py\u001B[0m in \u001B[0;36m<cell line: 1>\u001B[0;34m()\u001B[0m\n\u001B[0;32m----> 1\u001B[0;31m \u001B[0mcv_model\u001B[0m \u001B[0;34m=\u001B[0m \u001B[0mcrossval\u001B[0m\u001B[0;34m.\u001B[0m\u001B[0mfit\u001B[0m\u001B[0;34m(\u001B[0m\u001B[0mtrain_data\u001B[0m\u001B[0;34m)\u001B[0m\u001B[0;34m\u001B[0m\u001B[0;34m\u001B[0m\u001B[0m\n\u001B[0m",
      "\u001B[0;32m~/opt/anaconda3/envs/notensor/lib/python3.9/site-packages/pyspark/ml/base.py\u001B[0m in \u001B[0;36mfit\u001B[0;34m(self, dataset, params)\u001B[0m\n\u001B[1;32m    203\u001B[0m                 \u001B[0;32mreturn\u001B[0m \u001B[0mself\u001B[0m\u001B[0;34m.\u001B[0m\u001B[0mcopy\u001B[0m\u001B[0;34m(\u001B[0m\u001B[0mparams\u001B[0m\u001B[0;34m)\u001B[0m\u001B[0;34m.\u001B[0m\u001B[0m_fit\u001B[0m\u001B[0;34m(\u001B[0m\u001B[0mdataset\u001B[0m\u001B[0;34m)\u001B[0m\u001B[0;34m\u001B[0m\u001B[0;34m\u001B[0m\u001B[0m\n\u001B[1;32m    204\u001B[0m             \u001B[0;32melse\u001B[0m\u001B[0;34m:\u001B[0m\u001B[0;34m\u001B[0m\u001B[0;34m\u001B[0m\u001B[0m\n\u001B[0;32m--> 205\u001B[0;31m                 \u001B[0;32mreturn\u001B[0m \u001B[0mself\u001B[0m\u001B[0;34m.\u001B[0m\u001B[0m_fit\u001B[0m\u001B[0;34m(\u001B[0m\u001B[0mdataset\u001B[0m\u001B[0;34m)\u001B[0m\u001B[0;34m\u001B[0m\u001B[0;34m\u001B[0m\u001B[0m\n\u001B[0m\u001B[1;32m    206\u001B[0m         \u001B[0;32melse\u001B[0m\u001B[0;34m:\u001B[0m\u001B[0;34m\u001B[0m\u001B[0;34m\u001B[0m\u001B[0m\n\u001B[1;32m    207\u001B[0m             raise TypeError(\n",
      "\u001B[0;32m~/opt/anaconda3/envs/notensor/lib/python3.9/site-packages/pyspark/ml/tuning.py\u001B[0m in \u001B[0;36m_fit\u001B[0;34m(self, dataset)\u001B[0m\n\u001B[1;32m    845\u001B[0m                 \u001B[0m_parallelFitTasks\u001B[0m\u001B[0;34m(\u001B[0m\u001B[0mest\u001B[0m\u001B[0;34m,\u001B[0m \u001B[0mtrain\u001B[0m\u001B[0;34m,\u001B[0m \u001B[0meva\u001B[0m\u001B[0;34m,\u001B[0m \u001B[0mvalidation\u001B[0m\u001B[0;34m,\u001B[0m \u001B[0mepm\u001B[0m\u001B[0;34m,\u001B[0m \u001B[0mcollectSubModelsParam\u001B[0m\u001B[0;34m)\u001B[0m\u001B[0;34m,\u001B[0m\u001B[0;34m\u001B[0m\u001B[0;34m\u001B[0m\u001B[0m\n\u001B[1;32m    846\u001B[0m             )\n\u001B[0;32m--> 847\u001B[0;31m             \u001B[0;32mfor\u001B[0m \u001B[0mj\u001B[0m\u001B[0;34m,\u001B[0m \u001B[0mmetric\u001B[0m\u001B[0;34m,\u001B[0m \u001B[0msubModel\u001B[0m \u001B[0;32min\u001B[0m \u001B[0mpool\u001B[0m\u001B[0;34m.\u001B[0m\u001B[0mimap_unordered\u001B[0m\u001B[0;34m(\u001B[0m\u001B[0;32mlambda\u001B[0m \u001B[0mf\u001B[0m\u001B[0;34m:\u001B[0m \u001B[0mf\u001B[0m\u001B[0;34m(\u001B[0m\u001B[0;34m)\u001B[0m\u001B[0;34m,\u001B[0m \u001B[0mtasks\u001B[0m\u001B[0;34m)\u001B[0m\u001B[0;34m:\u001B[0m\u001B[0;34m\u001B[0m\u001B[0;34m\u001B[0m\u001B[0m\n\u001B[0m\u001B[1;32m    848\u001B[0m                 \u001B[0mmetrics_all\u001B[0m\u001B[0;34m[\u001B[0m\u001B[0mi\u001B[0m\u001B[0;34m]\u001B[0m\u001B[0;34m[\u001B[0m\u001B[0mj\u001B[0m\u001B[0;34m]\u001B[0m \u001B[0;34m=\u001B[0m \u001B[0mmetric\u001B[0m\u001B[0;34m\u001B[0m\u001B[0;34m\u001B[0m\u001B[0m\n\u001B[1;32m    849\u001B[0m                 \u001B[0;32mif\u001B[0m \u001B[0mcollectSubModelsParam\u001B[0m\u001B[0;34m:\u001B[0m\u001B[0;34m\u001B[0m\u001B[0;34m\u001B[0m\u001B[0m\n",
      "\u001B[0;32m~/opt/anaconda3/envs/notensor/lib/python3.9/multiprocessing/pool.py\u001B[0m in \u001B[0;36mnext\u001B[0;34m(self, timeout)\u001B[0m\n\u001B[1;32m    856\u001B[0m                     \u001B[0mself\u001B[0m\u001B[0;34m.\u001B[0m\u001B[0m_pool\u001B[0m \u001B[0;34m=\u001B[0m \u001B[0;32mNone\u001B[0m\u001B[0;34m\u001B[0m\u001B[0;34m\u001B[0m\u001B[0m\n\u001B[1;32m    857\u001B[0m                     \u001B[0;32mraise\u001B[0m \u001B[0mStopIteration\u001B[0m \u001B[0;32mfrom\u001B[0m \u001B[0;32mNone\u001B[0m\u001B[0;34m\u001B[0m\u001B[0;34m\u001B[0m\u001B[0m\n\u001B[0;32m--> 858\u001B[0;31m                 \u001B[0mself\u001B[0m\u001B[0;34m.\u001B[0m\u001B[0m_cond\u001B[0m\u001B[0;34m.\u001B[0m\u001B[0mwait\u001B[0m\u001B[0;34m(\u001B[0m\u001B[0mtimeout\u001B[0m\u001B[0;34m)\u001B[0m\u001B[0;34m\u001B[0m\u001B[0;34m\u001B[0m\u001B[0m\n\u001B[0m\u001B[1;32m    859\u001B[0m                 \u001B[0;32mtry\u001B[0m\u001B[0;34m:\u001B[0m\u001B[0;34m\u001B[0m\u001B[0;34m\u001B[0m\u001B[0m\n\u001B[1;32m    860\u001B[0m                     \u001B[0mitem\u001B[0m \u001B[0;34m=\u001B[0m \u001B[0mself\u001B[0m\u001B[0;34m.\u001B[0m\u001B[0m_items\u001B[0m\u001B[0;34m.\u001B[0m\u001B[0mpopleft\u001B[0m\u001B[0;34m(\u001B[0m\u001B[0;34m)\u001B[0m\u001B[0;34m\u001B[0m\u001B[0;34m\u001B[0m\u001B[0m\n",
      "\u001B[0;32m~/opt/anaconda3/envs/notensor/lib/python3.9/threading.py\u001B[0m in \u001B[0;36mwait\u001B[0;34m(self, timeout)\u001B[0m\n\u001B[1;32m    310\u001B[0m         \u001B[0;32mtry\u001B[0m\u001B[0;34m:\u001B[0m    \u001B[0;31m# restore state no matter what (e.g., KeyboardInterrupt)\u001B[0m\u001B[0;34m\u001B[0m\u001B[0;34m\u001B[0m\u001B[0m\n\u001B[1;32m    311\u001B[0m             \u001B[0;32mif\u001B[0m \u001B[0mtimeout\u001B[0m \u001B[0;32mis\u001B[0m \u001B[0;32mNone\u001B[0m\u001B[0;34m:\u001B[0m\u001B[0;34m\u001B[0m\u001B[0;34m\u001B[0m\u001B[0m\n\u001B[0;32m--> 312\u001B[0;31m                 \u001B[0mwaiter\u001B[0m\u001B[0;34m.\u001B[0m\u001B[0macquire\u001B[0m\u001B[0;34m(\u001B[0m\u001B[0;34m)\u001B[0m\u001B[0;34m\u001B[0m\u001B[0;34m\u001B[0m\u001B[0m\n\u001B[0m\u001B[1;32m    313\u001B[0m                 \u001B[0mgotit\u001B[0m \u001B[0;34m=\u001B[0m \u001B[0;32mTrue\u001B[0m\u001B[0;34m\u001B[0m\u001B[0;34m\u001B[0m\u001B[0m\n\u001B[1;32m    314\u001B[0m             \u001B[0;32melse\u001B[0m\u001B[0;34m:\u001B[0m\u001B[0;34m\u001B[0m\u001B[0;34m\u001B[0m\u001B[0m\n",
      "\u001B[0;31mKeyboardInterrupt\u001B[0m: "
     ]
    }
   ],
   "source": [
    "cv_model = crossval.fit(train_data)"
   ],
   "metadata": {
    "collapsed": false,
    "ExecuteTime": {
     "end_time": "2023-10-01T12:40:01.948262Z",
     "start_time": "2023-10-01T12:39:47.591268Z"
    }
   },
   "id": "267b0acf5b7ac9d"
  },
  {
   "cell_type": "code",
   "execution_count": null,
   "outputs": [],
   "source": [
    "best_rf_model = cv_model.bestModel"
   ],
   "metadata": {
    "collapsed": false,
    "ExecuteTime": {
     "start_time": "2023-10-01T12:35:21.169056Z"
    }
   },
   "id": "d137a30a289cd435"
  },
  {
   "cell_type": "code",
   "execution_count": null,
   "outputs": [],
   "source": [
    "rf_predictions = best_rf_model.transform(test_data)"
   ],
   "metadata": {
    "collapsed": false,
    "ExecuteTime": {
     "start_time": "2023-10-01T12:35:21.171109Z"
    }
   },
   "id": "b5c1b5255a593601"
  },
  {
   "cell_type": "code",
   "execution_count": 46,
   "outputs": [],
   "source": [
    "# Convert predictions to Pandas DataFrame for plotting\n",
    "predictions_pd = rf_predictions.select(\"Index\", \"close\", \"prediction\").toPandas()\n",
    "\n",
    "# Extract the actual \"close\" values and timestamp\n",
    "actual_close = predictions_pd[\"close\"]\n",
    "dates = predictions_pd[\"Index\"]\n",
    "\n",
    "# Extract the predicted values\n",
    "predicted_close = predictions_pd[\"prediction\"]"
   ],
   "metadata": {
    "collapsed": false,
    "ExecuteTime": {
     "end_time": "2023-10-01T12:44:49.193689Z",
     "start_time": "2023-10-01T12:44:48.240653Z"
    }
   },
   "id": "85872c19ea3eb"
  },
  {
   "cell_type": "code",
   "execution_count": 47,
   "outputs": [
    {
     "data": {
      "text/plain": "<Figure size 1200x600 with 1 Axes>",
      "image/png": "[encoded data removed]"
     },
     "metadata": {},
     "output_type": "display_data"
    }
   ],
   "source": [
    "# Create a time series plot\n",
    "plt.figure(figsize=(12, 6))\n",
    "plt.plot(dates, actual_close, label=\"Actual Close\", color=\"b\")\n",
    "plt.plot(dates, predicted_close, label=\"Predicted Close\", color=\"r\")\n",
    "plt.xlabel(\"Date\")\n",
    "plt.ylabel(\"Close Price\")\n",
    "plt.title(\"Actual vs. Predicted Close Prices\")\n",
    "plt.legend()\n",
    "plt.grid(True)\n",
    "plt.show()"
   ],
   "metadata": {
    "collapsed": false,
    "ExecuteTime": {
     "end_time": "2023-10-01T12:44:49.295258Z",
     "start_time": "2023-10-01T12:44:49.206423Z"
    }
   },
   "id": "b7a9d8b9622c414e"
  },
  {
   "cell_type": "code",
   "execution_count": null,
   "outputs": [],
   "source": [],
   "metadata": {
    "collapsed": false,
    "ExecuteTime": {
     "start_time": "2023-10-01T12:35:21.174889Z"
    }
   },
   "id": "af68ada1a464e332"
  }
 ],
 "metadata": {
  "kernelspec": {
   "display_name": "Python 3",
   "language": "python",
   "name": "python3"
  },
  "language_info": {
   "codemirror_mode": {
    "name": "ipython",
    "version": 2
   },
   "file_extension": ".py",
   "mimetype": "text/x-python",
   "name": "python",
   "nbconvert_exporter": "python",
   "pygments_lexer": "ipython2",
   "version": "2.7.6"
  }
 },
 "nbformat": 4,
 "nbformat_minor": 5
}
