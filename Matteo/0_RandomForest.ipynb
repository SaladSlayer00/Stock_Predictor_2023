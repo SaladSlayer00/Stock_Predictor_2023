{
 "cells": [
  {
   "cell_type": "code",
   "execution_count": 1,
   "id": "initial_id",
   "metadata": {
    "collapsed": true,
    "ExecuteTime": {
     "end_time": "2023-09-30T10:17:00.135007Z",
     "start_time": "2023-09-30T10:16:58.071206Z"
    }
   },
   "outputs": [],
   "source": [
    "from pyspark.ml.regression import LinearRegression\n",
    "from pyspark.ml.evaluation import RegressionEvaluator\n",
    "from pyspark.ml.feature import VectorAssembler\n",
    "from yahoo_fin import stock_info as si\n",
    "import datetime as dt\n",
    "from pyspark.ml import Pipeline\n",
    "import pandas_datareader as pdr\n",
    "import matplotlib.pyplot as plt\n",
    "from pyspark.sql.functions import year, month, dayofmonth, concat, lit, lpad, col, collect_list\n",
    "from pyspark.sql import SparkSession\n",
    "from pyspark.sql.functions import monotonically_increasing_id\n",
    "import pyspark.sql.functions as F\n",
    "from pyspark.ml.regression import RandomForestRegressor\n",
    "from pyspark.ml.tuning import ParamGridBuilder, CrossValidator"
   ]
  },
  {
   "cell_type": "markdown",
   "source": [
    "# Data Collection"
   ],
   "metadata": {
    "collapsed": false
   },
   "id": "d10d23aa8e072ef"
  },
  {
   "cell_type": "code",
   "execution_count": 2,
   "outputs": [],
   "source": [
    "ticker = 'TSLA'\n",
    "start_date = dt.datetime(2013, 9, 30)\n",
    "end_date = dt.datetime(2023, 1, 1)\n",
    "fred_symbols = ['SP500', 'DJIA', 'NASDAQCOM', 'VIXCLS', 'GVZCLS', 'DTWEXBGS', 'IUDSOIA', 'BAMLHE00EHYIEY', 'DFF', 'T10Y2Y', 'DGS10', 'T10YIE', 'T5YIE', 'DTB3']"
   ],
   "metadata": {
    "collapsed": false,
    "ExecuteTime": {
     "end_time": "2023-09-30T10:17:00.140980Z",
     "start_time": "2023-09-30T10:17:00.136420Z"
    }
   },
   "id": "cafe69a8b429b63a"
  },
  {
   "cell_type": "code",
   "execution_count": 3,
   "outputs": [],
   "source": [
    "historical_data = si.get_data(ticker, start_date, end_date, interval='1d')\n",
    "fred_df = pdr.get_data_fred(fred_symbols, start_date, end_date)"
   ],
   "metadata": {
    "collapsed": false,
    "ExecuteTime": {
     "end_time": "2023-09-30T10:17:04.063940Z",
     "start_time": "2023-09-30T10:17:00.139977Z"
    }
   },
   "id": "5132e82f591811da"
  },
  {
   "cell_type": "markdown",
   "source": [
    "# Data Pre-Processing with Spark"
   ],
   "metadata": {
    "collapsed": false
   },
   "id": "45ddcfaad26822f4"
  },
  {
   "cell_type": "code",
   "execution_count": 4,
   "outputs": [
    {
     "name": "stderr",
     "output_type": "stream",
     "text": [
      "Setting default log level to \"WARN\".\n",
      "To adjust logging level use sc.setLogLevel(newLevel). For SparkR, use setLogLevel(newLevel).\n",
      "23/09/30 12:17:05 WARN NativeCodeLoader: Unable to load native-hadoop library for your platform... using builtin-java classes where applicable\n",
      "23/09/30 12:17:05 WARN Utils: Service 'SparkUI' could not bind on port 4040. Attempting port 4041.\n",
      "23/09/30 12:17:05 WARN Utils: Service 'SparkUI' could not bind on port 4041. Attempting port 4042.\n"
     ]
    }
   ],
   "source": [
    "# Initialize SparkSession\n",
    "spark = SparkSession.builder \\\n",
    "    .appName(\"StockPrediction\") \\\n",
    "    .config(\"spark.sql.debug.maxToStringFields\", \"100\") \\\n",
    "    .config(\"spark.driver.maxResultSize\", \"512m\") \\\n",
    "    .getOrCreate()"
   ],
   "metadata": {
    "collapsed": false,
    "ExecuteTime": {
     "end_time": "2023-09-30T10:17:06.211429Z",
     "start_time": "2023-09-30T10:17:04.064882Z"
    }
   },
   "id": "31a57cc4f875483"
  },
  {
   "cell_type": "code",
   "execution_count": 5,
   "outputs": [],
   "source": [
    "historical_data_spark = spark.createDataFrame(historical_data.reset_index())\n",
    "fred_df_spark = spark.createDataFrame(fred_df.reset_index())"
   ],
   "metadata": {
    "collapsed": false,
    "ExecuteTime": {
     "end_time": "2023-09-30T10:17:08.381811Z",
     "start_time": "2023-09-30T10:17:06.216231Z"
    }
   },
   "id": "188fdec6082b3bb8"
  },
  {
   "cell_type": "code",
   "execution_count": 6,
   "outputs": [],
   "source": [
    "historical_data_spark = historical_data_spark.withColumnRenamed(\"index\", \"DATE\")\n",
    "historical_data_spark = historical_data_spark.drop('ticker', 'adjclose')\n",
    "\n",
    "historical_data_spark = historical_data_spark.withColumn(\"year\", year(\"DATE\"))\n",
    "historical_data_spark = historical_data_spark.withColumn(\"month\", month(\"DATE\"))\n",
    "historical_data_spark = historical_data_spark.withColumn(\"day\", dayofmonth(\"DATE\"))\n",
    "historical_data_spark = historical_data_spark.withColumn('fulldate', concat(historical_data_spark['year'],\n",
    "                                       lpad(historical_data_spark['month'], 2, '0'),\n",
    "                                       lpad(historical_data_spark['day'], 2, '0')))\n",
    "historical_data_spark = historical_data_spark.withColumn('fulldate', historical_data_spark['fulldate'].cast('int'))"
   ],
   "metadata": {
    "collapsed": false,
    "ExecuteTime": {
     "end_time": "2023-09-30T10:17:08.514224Z",
     "start_time": "2023-09-30T10:17:08.383774Z"
    }
   },
   "id": "9257e51c06f55fef"
  },
  {
   "cell_type": "code",
   "execution_count": 7,
   "outputs": [],
   "source": [
    "fred_df_spark = fred_df_spark.withColumn(\"Index\", monotonically_increasing_id())\n",
    "#fred_df_spark.show()"
   ],
   "metadata": {
    "collapsed": false,
    "ExecuteTime": {
     "end_time": "2023-09-30T10:17:08.526768Z",
     "start_time": "2023-09-30T10:17:08.514853Z"
    }
   },
   "id": "536e1555f4f7217a"
  },
  {
   "cell_type": "code",
   "execution_count": 8,
   "outputs": [],
   "source": [
    "dataset_spark = historical_data_spark.join(fred_df_spark, on=\"DATE\", how=\"left\")\n",
    "dataset_spark = dataset_spark.orderBy(\"DATE\")\n",
    "dataset_spark = dataset_spark.withColumn(\"Index\", monotonically_increasing_id())\n",
    "dataset_spark = dataset_spark.drop(\"DATE\")\n",
    "#dataset_spark.show()"
   ],
   "metadata": {
    "collapsed": false,
    "ExecuteTime": {
     "end_time": "2023-09-30T10:17:08.593251Z",
     "start_time": "2023-09-30T10:17:08.527590Z"
    }
   },
   "id": "b76706a56a1bb8c1"
  },
  {
   "cell_type": "code",
   "execution_count": 9,
   "outputs": [
    {
     "name": "stderr",
     "output_type": "stream",
     "text": [
      "Java HotSpot(TM) 64-Bit Server VM warning: CodeCache is full. Compiler has been disabled.\n",
      "Java HotSpot(TM) 64-Bit Server VM warning: Try increasing the code cache size using -XX:ReservedCodeCacheSize=\n"
     ]
    },
    {
     "name": "stdout",
     "output_type": "stream",
     "text": [
      "CodeCache: size=131072Kb used=17265Kb max_used=17275Kb free=113806Kb\n",
      " bounds [0x0000000104b2c000, 0x0000000105c1c000, 0x000000010cb2c000]\n",
      " total_blobs=7238 nmethods=6400 adapters=750\n",
      " compilation: disabled (not enough contiguous free space left)\n",
      "Number of rows in the DataFrame:  2331\n"
     ]
    },
    {
     "name": "stderr",
     "output_type": "stream",
     "text": [
      "                                                                                \r"
     ]
    }
   ],
   "source": [
    "# Assuming 'df' is your Spark DataFrame\n",
    "row_count = dataset_spark.count()\n",
    "\n",
    "# Print the row count\n",
    "print(\"Number of rows in the DataFrame: \", row_count)"
   ],
   "metadata": {
    "collapsed": false,
    "ExecuteTime": {
     "end_time": "2023-09-30T10:17:11.239721Z",
     "start_time": "2023-09-30T10:17:08.593839Z"
    }
   },
   "id": "1cf66715579363d1"
  },
  {
   "cell_type": "code",
   "execution_count": 10,
   "outputs": [
    {
     "name": "stdout",
     "output_type": "stream",
     "text": [
      "+----+----+---+-----+------+----+-----+---+--------+-----+----+---------+------+------+--------+-------+--------------+---+------+-----+------+-----+----+-----+\n",
      "|open|high|low|close|volume|year|month|day|fulldate|SP500|DJIA|NASDAQCOM|VIXCLS|GVZCLS|DTWEXBGS|IUDSOIA|BAMLHE00EHYIEY|DFF|T10Y2Y|DGS10|T10YIE|T5YIE|DTB3|Index|\n",
      "+----+----+---+-----+------+----+-----+---+--------+-----+----+---------+------+------+--------+-------+--------------+---+------+-----+------+-----+----+-----+\n",
      "|   0|   0|  0|    0|     0|   0|    0|  0|       0|    0|   0|        0|     0|     0|      41|     42|             1|  0|    19|   19|    19|   19|  19|    0|\n",
      "+----+----+---+-----+------+----+-----+---+--------+-----+----+---------+------+------+--------+-------+--------------+---+------+-----+------+-----+----+-----+\n"
     ]
    }
   ],
   "source": [
    "#Count null values in each column\n",
    "dataset_spark.select([F.count(F.when(F.isnan(c) | F.col(c).isNull(), c)).alias(c) for c in dataset_spark.columns]).show()"
   ],
   "metadata": {
    "collapsed": false,
    "ExecuteTime": {
     "end_time": "2023-09-30T10:17:12.357953Z",
     "start_time": "2023-09-30T10:17:11.240807Z"
    }
   },
   "id": "2d16949e0254bbf0"
  },
  {
   "cell_type": "code",
   "execution_count": 11,
   "outputs": [],
   "source": [
    "# Drop rows where 'column1' or 'column2' have null values\n",
    "dataset_spark = dataset_spark.dropna()\n",
    "#dataset_spark.show()"
   ],
   "metadata": {
    "collapsed": false,
    "ExecuteTime": {
     "end_time": "2023-09-30T10:17:12.370968Z",
     "start_time": "2023-09-30T10:17:12.358566Z"
    }
   },
   "id": "64e75f2c741fe0c0"
  },
  {
   "cell_type": "code",
   "execution_count": 12,
   "outputs": [
    {
     "name": "stdout",
     "output_type": "stream",
     "text": [
      "Number of rows in the DataFrame:  2248\n"
     ]
    }
   ],
   "source": [
    "# Assuming 'df' is your Spark DataFrame\n",
    "row_count = dataset_spark.count()\n",
    "\n",
    "# Print the row count\n",
    "print(\"Number of rows in the DataFrame: \", row_count)"
   ],
   "metadata": {
    "collapsed": false,
    "ExecuteTime": {
     "end_time": "2023-09-30T10:17:13.018569Z",
     "start_time": "2023-09-30T10:17:12.371993Z"
    }
   },
   "id": "588f9207945c41af"
  },
  {
   "cell_type": "markdown",
   "source": [
    "# MLLib"
   ],
   "metadata": {
    "collapsed": false
   },
   "id": "c949be5ddcf010a9"
  },
  {
   "cell_type": "code",
   "execution_count": 13,
   "outputs": [],
   "source": [
    "# Prepare data for MLlib\n",
    "feature_columns = [col_name for col_name in dataset_spark.columns if col_name != 'close']\n",
    "vector_assembler = VectorAssembler(inputCols=feature_columns, outputCol=\"features\")\n",
    "# Determine the split point based on the desired ratio\n",
    "split_ratio = 0.8  # 80% for training, 20% for testing\n",
    "split_point = int(dataset_spark.count() * split_ratio)\n",
    "\n",
    "# Split the data into training and testing sets\n",
    "train_data = dataset_spark.limit(split_point)\n",
    "test_data = dataset_spark.subtract(train_data)\n",
    "\n",
    "# Reorder by index\n",
    "train_data = train_data.orderBy(\"Index\")\n",
    "test_data = test_data.orderBy(\"Index\")"
   ],
   "metadata": {
    "collapsed": false,
    "ExecuteTime": {
     "end_time": "2023-09-30T10:17:13.610113Z",
     "start_time": "2023-09-30T10:17:13.016027Z"
    }
   },
   "id": "7891fd4d136afa1a"
  },
  {
   "cell_type": "markdown",
   "source": [
    "# Random Forest Regressor"
   ],
   "metadata": {
    "collapsed": false
   },
   "id": "ff28a6e79846b0df"
  },
  {
   "cell_type": "code",
   "execution_count": 14,
   "outputs": [],
   "source": [
    "# Create a Random Forest Regressor model\n",
    "rf = RandomForestRegressor(labelCol='close', featuresCol='features', numTrees=100)"
   ],
   "metadata": {
    "collapsed": false,
    "ExecuteTime": {
     "end_time": "2023-09-30T10:17:13.633048Z",
     "start_time": "2023-09-30T10:17:13.613593Z"
    }
   },
   "id": "dc08e8a760222bf9"
  },
  {
   "cell_type": "code",
   "execution_count": 15,
   "outputs": [],
   "source": [
    "pipeline = Pipeline(stages=[vector_assembler, rf])"
   ],
   "metadata": {
    "collapsed": false,
    "ExecuteTime": {
     "end_time": "2023-09-30T10:17:13.639628Z",
     "start_time": "2023-09-30T10:17:13.631966Z"
    }
   },
   "id": "142d5db79de7f370"
  },
  {
   "cell_type": "code",
   "execution_count": 16,
   "outputs": [],
   "source": [
    "# Fit the Random Forest Regressor model\n",
    "rf_model = pipeline.fit(train_data)"
   ],
   "metadata": {
    "collapsed": false,
    "ExecuteTime": {
     "end_time": "2023-09-30T10:17:16.135959Z",
     "start_time": "2023-09-30T10:17:13.635072Z"
    }
   },
   "id": "e907896e1218e0ca"
  },
  {
   "cell_type": "code",
   "execution_count": 17,
   "outputs": [
    {
     "data": {
      "text/plain": "69.49896320017653"
     },
     "execution_count": 17,
     "metadata": {},
     "output_type": "execute_result"
    }
   ],
   "source": [
    "# Model Evaluation in Spark\n",
    "# Make predictions using the Random Forest Regressor model\n",
    "rf_predictions = rf_model.transform(test_data)\n",
    "# Evaluate the Random Forest Regressor model\n",
    "evaluator = RegressionEvaluator(labelCol=\"close\", predictionCol=\"prediction\", metricName=\"rmse\")\n",
    "rf_rmse = evaluator.evaluate(rf_predictions)\n",
    "rf_rmse"
   ],
   "metadata": {
    "collapsed": false,
    "ExecuteTime": {
     "end_time": "2023-09-30T10:17:17.187625Z",
     "start_time": "2023-09-30T10:17:16.136828Z"
    }
   },
   "id": "af3632118abab185"
  },
  {
   "cell_type": "markdown",
   "source": [
    "# Hyperparameter Tuning"
   ],
   "metadata": {
    "collapsed": false
   },
   "id": "afe083332ba852a7"
  },
  {
   "cell_type": "code",
   "execution_count": 18,
   "outputs": [],
   "source": [
    "param_grid = ParamGridBuilder() \\\n",
    "    .addGrid(rf.numTrees, [50, 100, 150]) \\\n",
    "    .addGrid(rf.maxDepth, [5, 10, 15]) \\\n",
    "    .build()"
   ],
   "metadata": {
    "collapsed": false,
    "ExecuteTime": {
     "end_time": "2023-09-30T10:17:17.187782Z",
     "start_time": "2023-09-30T10:17:17.184454Z"
    }
   },
   "id": "eecb46b11d37d848"
  },
  {
   "cell_type": "code",
   "execution_count": 19,
   "outputs": [],
   "source": [
    "param_grid = ParamGridBuilder() \\\n",
    "    .addGrid(rf.numTrees, [50, 100, 150]) \\\n",
    "    .addGrid(rf.maxDepth, [5, 10, 15]) \\\n",
    "    .build()"
   ],
   "metadata": {
    "collapsed": false,
    "ExecuteTime": {
     "end_time": "2023-09-30T10:17:17.194505Z",
     "start_time": "2023-09-30T10:17:17.188687Z"
    }
   },
   "id": "9d2b0d532d63965a"
  },
  {
   "cell_type": "code",
   "execution_count": 20,
   "outputs": [],
   "source": [
    "crossval = CrossValidator(estimator=pipeline,\n",
    "                          estimatorParamMaps=param_grid,\n",
    "                          evaluator=evaluator,\n",
    "                          numFolds=3)  # You can adjust the number of folds as needed"
   ],
   "metadata": {
    "collapsed": false,
    "ExecuteTime": {
     "end_time": "2023-09-30T10:17:17.195779Z",
     "start_time": "2023-09-30T10:17:17.192406Z"
    }
   },
   "id": "135466a37133bae7"
  },
  {
   "cell_type": "code",
   "execution_count": 21,
   "outputs": [
    {
     "name": "stderr",
     "output_type": "stream",
     "text": [
      "23/09/30 12:17:22 WARN DAGScheduler: Broadcasting large task binary with size 1326.2 KiB\n",
      "23/09/30 12:17:23 WARN DAGScheduler: Broadcasting large task binary with size 1889.1 KiB\n",
      "23/09/30 12:17:24 WARN DAGScheduler: Broadcasting large task binary with size 2.6 MiB\n",
      "23/09/30 12:17:26 WARN DAGScheduler: Broadcasting large task binary with size 1326.2 KiB\n",
      "23/09/30 12:17:26 WARN DAGScheduler: Broadcasting large task binary with size 1889.0 KiB\n",
      "23/09/30 12:17:27 WARN DAGScheduler: Broadcasting large task binary with size 2.6 MiB\n",
      "23/09/30 12:17:28 WARN DAGScheduler: Broadcasting large task binary with size 3.5 MiB\n",
      "23/09/30 12:17:28 WARN DAGScheduler: Broadcasting large task binary with size 4.6 MiB\n",
      "23/09/30 12:17:29 WARN DAGScheduler: Broadcasting large task binary with size 5.8 MiB\n",
      "23/09/30 12:17:30 WARN DAGScheduler: Broadcasting large task binary with size 7.0 MiB\n",
      "23/09/30 12:17:31 WARN DAGScheduler: Broadcasting large task binary with size 7.9 MiB\n",
      "23/09/30 12:17:33 WARN DAGScheduler: Broadcasting large task binary with size 1027.6 KiB\n",
      "23/09/30 12:17:33 WARN DAGScheduler: Broadcasting large task binary with size 1617.6 KiB\n",
      "23/09/30 12:17:34 WARN DAGScheduler: Broadcasting large task binary with size 2.4 MiB\n",
      "23/09/30 12:17:34 WARN DAGScheduler: Broadcasting large task binary with size 3.4 MiB\n",
      "23/09/30 12:17:35 WARN DAGScheduler: Broadcasting large task binary with size 4.8 MiB\n",
      "23/09/30 12:17:37 WARN DAGScheduler: Broadcasting large task binary with size 1027.6 KiB\n",
      "23/09/30 12:17:37 WARN DAGScheduler: Broadcasting large task binary with size 1617.6 KiB\n",
      "23/09/30 12:17:38 WARN DAGScheduler: Broadcasting large task binary with size 2.4 MiB\n",
      "23/09/30 12:17:38 WARN DAGScheduler: Broadcasting large task binary with size 3.4 MiB\n",
      "23/09/30 12:17:39 WARN DAGScheduler: Broadcasting large task binary with size 4.8 MiB\n",
      "23/09/30 12:17:40 WARN DAGScheduler: Broadcasting large task binary with size 6.6 MiB\n",
      "23/09/30 12:17:41 WARN DAGScheduler: Broadcasting large task binary with size 8.7 MiB\n",
      "23/09/30 12:17:42 WARN DAGScheduler: Broadcasting large task binary with size 11.1 MiB\n",
      "23/09/30 12:17:44 WARN DAGScheduler: Broadcasting large task binary with size 13.4 MiB\n",
      "23/09/30 12:17:45 WARN DAGScheduler: Broadcasting large task binary with size 15.5 MiB\n",
      "23/09/30 12:17:48 WARN DAGScheduler: Broadcasting large task binary with size 1464.1 KiB\n",
      "23/09/30 12:17:49 WARN DAGScheduler: Broadcasting large task binary with size 2.3 MiB\n",
      "23/09/30 12:17:49 WARN DAGScheduler: Broadcasting large task binary with size 3.5 MiB\n",
      "23/09/30 12:17:50 WARN DAGScheduler: Broadcasting large task binary with size 5.1 MiB\n",
      "23/09/30 12:17:51 WARN DAGScheduler: Broadcasting large task binary with size 7.3 MiB\n",
      "23/09/30 12:17:52 WARN DAGScheduler: Broadcasting large task binary with size 1019.6 KiB\n",
      "23/09/30 12:17:54 WARN DAGScheduler: Broadcasting large task binary with size 1464.1 KiB\n",
      "23/09/30 12:17:54 WARN DAGScheduler: Broadcasting large task binary with size 2.3 MiB\n",
      "23/09/30 12:17:55 WARN DAGScheduler: Broadcasting large task binary with size 3.5 MiB\n",
      "23/09/30 12:17:56 WARN DAGScheduler: Broadcasting large task binary with size 5.1 MiB\n",
      "23/09/30 12:17:57 WARN DAGScheduler: Broadcasting large task binary with size 7.3 MiB\n",
      "23/09/30 12:17:57 WARN DAGScheduler: Broadcasting large task binary with size 1019.6 KiB\n",
      "23/09/30 12:17:58 WARN DAGScheduler: Broadcasting large task binary with size 10.0 MiB\n",
      "23/09/30 12:17:59 WARN DAGScheduler: Broadcasting large task binary with size 1258.6 KiB\n",
      "23/09/30 12:18:00 WARN DAGScheduler: Broadcasting large task binary with size 13.2 MiB\n",
      "23/09/30 12:18:00 WARN DAGScheduler: Broadcasting large task binary with size 1407.2 KiB\n",
      "23/09/30 12:18:02 WARN DAGScheduler: Broadcasting large task binary with size 16.8 MiB\n",
      "23/09/30 12:18:02 WARN DAGScheduler: Broadcasting large task binary with size 1399.6 KiB\n",
      "23/09/30 12:18:04 WARN DAGScheduler: Broadcasting large task binary with size 20.2 MiB\n",
      "23/09/30 12:18:05 WARN DAGScheduler: Broadcasting large task binary with size 1239.1 KiB\n",
      "23/09/30 12:18:06 WARN DAGScheduler: Broadcasting large task binary with size 23.2 MiB\n",
      "23/09/30 12:18:12 WARN DAGScheduler: Broadcasting large task binary with size 1302.8 KiB\n",
      "23/09/30 12:18:13 WARN DAGScheduler: Broadcasting large task binary with size 1865.2 KiB\n",
      "23/09/30 12:18:13 WARN DAGScheduler: Broadcasting large task binary with size 2.6 MiB\n",
      "23/09/30 12:18:14 WARN DAGScheduler: Broadcasting large task binary with size 1302.8 KiB\n",
      "23/09/30 12:18:15 WARN DAGScheduler: Broadcasting large task binary with size 1865.2 KiB\n",
      "23/09/30 12:18:15 WARN DAGScheduler: Broadcasting large task binary with size 2.6 MiB\n",
      "23/09/30 12:18:16 WARN DAGScheduler: Broadcasting large task binary with size 3.5 MiB\n",
      "23/09/30 12:18:16 WARN DAGScheduler: Broadcasting large task binary with size 4.6 MiB\n",
      "23/09/30 12:18:17 WARN DAGScheduler: Broadcasting large task binary with size 5.8 MiB\n",
      "23/09/30 12:18:18 WARN DAGScheduler: Broadcasting large task binary with size 6.9 MiB\n",
      "23/09/30 12:18:19 WARN DAGScheduler: Broadcasting large task binary with size 7.8 MiB\n",
      "23/09/30 12:18:21 WARN DAGScheduler: Broadcasting large task binary with size 1013.7 KiB\n",
      "23/09/30 12:18:22 WARN DAGScheduler: Broadcasting large task binary with size 1601.0 KiB\n",
      "23/09/30 12:18:22 WARN DAGScheduler: Broadcasting large task binary with size 2.4 MiB\n",
      "23/09/30 12:18:23 WARN DAGScheduler: Broadcasting large task binary with size 3.4 MiB\n",
      "23/09/30 12:18:23 WARN DAGScheduler: Broadcasting large task binary with size 4.8 MiB\n",
      "23/09/30 12:18:25 WARN DAGScheduler: Broadcasting large task binary with size 1013.7 KiB\n",
      "23/09/30 12:18:25 WARN DAGScheduler: Broadcasting large task binary with size 1601.0 KiB\n",
      "23/09/30 12:18:26 WARN DAGScheduler: Broadcasting large task binary with size 2.4 MiB\n",
      "23/09/30 12:18:26 WARN DAGScheduler: Broadcasting large task binary with size 3.4 MiB\n",
      "23/09/30 12:18:27 WARN DAGScheduler: Broadcasting large task binary with size 4.8 MiB\n",
      "23/09/30 12:18:28 WARN DAGScheduler: Broadcasting large task binary with size 6.6 MiB\n",
      "23/09/30 12:18:29 WARN DAGScheduler: Broadcasting large task binary with size 8.8 MiB\n",
      "23/09/30 12:18:30 WARN DAGScheduler: Broadcasting large task binary with size 11.1 MiB\n",
      "23/09/30 12:18:32 WARN DAGScheduler: Broadcasting large task binary with size 13.3 MiB\n",
      "23/09/30 12:18:33 WARN DAGScheduler: Broadcasting large task binary with size 15.1 MiB\n",
      "23/09/30 12:18:36 WARN DAGScheduler: Broadcasting large task binary with size 1444.4 KiB\n",
      "23/09/30 12:18:37 WARN DAGScheduler: Broadcasting large task binary with size 2.3 MiB\n",
      "23/09/30 12:18:37 WARN DAGScheduler: Broadcasting large task binary with size 3.4 MiB\n",
      "23/09/30 12:18:38 WARN DAGScheduler: Broadcasting large task binary with size 5.0 MiB\n",
      "23/09/30 12:18:39 WARN DAGScheduler: Broadcasting large task binary with size 7.1 MiB\n",
      "23/09/30 12:18:39 WARN DAGScheduler: Broadcasting large task binary with size 1013.0 KiB\n",
      "23/09/30 12:18:42 WARN DAGScheduler: Broadcasting large task binary with size 1444.4 KiB\n",
      "23/09/30 12:18:42 WARN DAGScheduler: Broadcasting large task binary with size 2.3 MiB\n",
      "23/09/30 12:18:43 WARN DAGScheduler: Broadcasting large task binary with size 3.4 MiB\n",
      "23/09/30 12:18:43 WARN DAGScheduler: Broadcasting large task binary with size 5.0 MiB\n",
      "23/09/30 12:18:44 WARN DAGScheduler: Broadcasting large task binary with size 7.1 MiB\n",
      "23/09/30 12:18:45 WARN DAGScheduler: Broadcasting large task binary with size 1013.0 KiB\n",
      "23/09/30 12:18:46 WARN DAGScheduler: Broadcasting large task binary with size 9.8 MiB\n",
      "23/09/30 12:18:46 WARN DAGScheduler: Broadcasting large task binary with size 1244.4 KiB\n",
      "23/09/30 12:18:48 WARN DAGScheduler: Broadcasting large task binary with size 13.0 MiB\n",
      "23/09/30 12:18:48 WARN DAGScheduler: Broadcasting large task binary with size 1392.3 KiB\n",
      "23/09/30 12:18:50 WARN DAGScheduler: Broadcasting large task binary with size 16.5 MiB\n",
      "23/09/30 12:18:50 WARN DAGScheduler: Broadcasting large task binary with size 1363.8 KiB\n",
      "23/09/30 12:18:52 WARN DAGScheduler: Broadcasting large task binary with size 19.8 MiB\n",
      "23/09/30 12:18:52 WARN DAGScheduler: Broadcasting large task binary with size 1169.7 KiB\n",
      "23/09/30 12:18:54 WARN DAGScheduler: Broadcasting large task binary with size 22.6 MiB\n",
      "23/09/30 12:19:00 WARN DAGScheduler: Broadcasting large task binary with size 1465.5 KiB\n",
      "23/09/30 12:19:00 WARN DAGScheduler: Broadcasting large task binary with size 2.1 MiB\n",
      "23/09/30 12:19:01 WARN DAGScheduler: Broadcasting large task binary with size 2.9 MiB\n",
      "23/09/30 12:19:02 WARN DAGScheduler: Broadcasting large task binary with size 1465.5 KiB\n",
      "23/09/30 12:19:03 WARN DAGScheduler: Broadcasting large task binary with size 2.1 MiB\n",
      "23/09/30 12:19:03 WARN DAGScheduler: Broadcasting large task binary with size 2.9 MiB\n",
      "23/09/30 12:19:04 WARN DAGScheduler: Broadcasting large task binary with size 3.9 MiB\n",
      "23/09/30 12:19:04 WARN DAGScheduler: Broadcasting large task binary with size 5.1 MiB\n",
      "23/09/30 12:19:05 WARN DAGScheduler: Broadcasting large task binary with size 6.3 MiB\n",
      "23/09/30 12:19:06 WARN DAGScheduler: Broadcasting large task binary with size 7.3 MiB\n",
      "23/09/30 12:19:07 WARN DAGScheduler: Broadcasting large task binary with size 8.1 MiB\n",
      "23/09/30 12:19:09 WARN DAGScheduler: Broadcasting large task binary with size 1065.2 KiB\n",
      "23/09/30 12:19:09 WARN DAGScheduler: Broadcasting large task binary with size 1751.8 KiB\n",
      "23/09/30 12:19:10 WARN DAGScheduler: Broadcasting large task binary with size 2.7 MiB\n",
      "23/09/30 12:19:10 WARN DAGScheduler: Broadcasting large task binary with size 4.0 MiB\n",
      "23/09/30 12:19:11 WARN DAGScheduler: Broadcasting large task binary with size 5.6 MiB\n",
      "23/09/30 12:19:13 WARN DAGScheduler: Broadcasting large task binary with size 1065.2 KiB\n",
      "23/09/30 12:19:13 WARN DAGScheduler: Broadcasting large task binary with size 1751.8 KiB\n",
      "23/09/30 12:19:14 WARN DAGScheduler: Broadcasting large task binary with size 2.7 MiB\n",
      "23/09/30 12:19:14 WARN DAGScheduler: Broadcasting large task binary with size 4.0 MiB\n",
      "23/09/30 12:19:15 WARN DAGScheduler: Broadcasting large task binary with size 5.6 MiB\n",
      "23/09/30 12:19:16 WARN DAGScheduler: Broadcasting large task binary with size 7.6 MiB\n",
      "23/09/30 12:19:18 WARN DAGScheduler: Broadcasting large task binary with size 9.9 MiB\n",
      "23/09/30 12:19:19 WARN DAGScheduler: Broadcasting large task binary with size 12.2 MiB\n",
      "23/09/30 12:19:20 WARN DAGScheduler: Broadcasting large task binary with size 14.3 MiB\n",
      "23/09/30 12:19:22 WARN DAGScheduler: Broadcasting large task binary with size 15.9 MiB\n",
      "23/09/30 12:19:25 WARN DAGScheduler: Broadcasting large task binary with size 1522.1 KiB\n",
      "23/09/30 12:19:25 WARN DAGScheduler: Broadcasting large task binary with size 2.5 MiB\n",
      "23/09/30 12:19:26 WARN DAGScheduler: Broadcasting large task binary with size 3.9 MiB\n",
      "23/09/30 12:19:27 WARN DAGScheduler: Broadcasting large task binary with size 5.8 MiB\n",
      "23/09/30 12:19:28 WARN DAGScheduler: Broadcasting large task binary with size 8.3 MiB\n",
      "23/09/30 12:19:28 WARN DAGScheduler: Broadcasting large task binary with size 1161.0 KiB\n",
      "23/09/30 12:19:31 WARN DAGScheduler: Broadcasting large task binary with size 1522.1 KiB\n",
      "23/09/30 12:19:31 WARN DAGScheduler: Broadcasting large task binary with size 2.5 MiB\n",
      "23/09/30 12:19:32 WARN DAGScheduler: Broadcasting large task binary with size 3.9 MiB\n",
      "23/09/30 12:19:33 WARN DAGScheduler: Broadcasting large task binary with size 5.8 MiB\n",
      "23/09/30 12:19:34 WARN DAGScheduler: Broadcasting large task binary with size 8.3 MiB\n",
      "23/09/30 12:19:34 WARN DAGScheduler: Broadcasting large task binary with size 1161.0 KiB\n",
      "23/09/30 12:19:35 WARN DAGScheduler: Broadcasting large task binary with size 11.3 MiB\n",
      "23/09/30 12:19:36 WARN DAGScheduler: Broadcasting large task binary with size 1353.8 KiB\n",
      "23/09/30 12:19:37 WARN DAGScheduler: Broadcasting large task binary with size 14.8 MiB\n",
      "23/09/30 12:19:38 WARN DAGScheduler: Broadcasting large task binary with size 1419.7 KiB\n",
      "23/09/30 12:19:39 WARN DAGScheduler: Broadcasting large task binary with size 18.3 MiB\n",
      "23/09/30 12:19:40 WARN DAGScheduler: Broadcasting large task binary with size 1302.4 KiB\n",
      "23/09/30 12:19:42 WARN DAGScheduler: Broadcasting large task binary with size 21.4 MiB\n",
      "23/09/30 12:19:42 WARN DAGScheduler: Broadcasting large task binary with size 1045.1 KiB\n",
      "23/09/30 12:19:44 WARN DAGScheduler: Broadcasting large task binary with size 23.8 MiB\n",
      "23/09/30 12:19:47 WARN DAGScheduler: Broadcasting large task binary with size 1488.4 KiB\n",
      "23/09/30 12:19:48 WARN DAGScheduler: Broadcasting large task binary with size 2.5 MiB\n",
      "23/09/30 12:19:48 WARN DAGScheduler: Broadcasting large task binary with size 3.9 MiB\n",
      "23/09/30 12:19:49 WARN DAGScheduler: Broadcasting large task binary with size 5.9 MiB\n",
      "23/09/30 12:19:51 WARN DAGScheduler: Broadcasting large task binary with size 8.6 MiB\n",
      "23/09/30 12:19:51 WARN DAGScheduler: Broadcasting large task binary with size 1318.5 KiB\n",
      "23/09/30 12:19:52 WARN DAGScheduler: Broadcasting large task binary with size 12.2 MiB\n",
      "23/09/30 12:19:53 WARN DAGScheduler: Broadcasting large task binary with size 1669.7 KiB\n",
      "23/09/30 12:19:55 WARN DAGScheduler: Broadcasting large task binary with size 16.6 MiB\n",
      "23/09/30 12:19:55 WARN DAGScheduler: Broadcasting large task binary with size 1923.0 KiB\n",
      "23/09/30 12:19:58 WARN DAGScheduler: Broadcasting large task binary with size 21.5 MiB\n",
      "23/09/30 12:19:58 WARN DAGScheduler: Broadcasting large task binary with size 2017.7 KiB\n",
      "23/09/30 12:20:01 WARN DAGScheduler: Broadcasting large task binary with size 26.5 MiB\n",
      "23/09/30 12:20:02 WARN DAGScheduler: Broadcasting large task binary with size 1878.9 KiB\n",
      "23/09/30 12:20:04 WARN DAGScheduler: Broadcasting large task binary with size 31.0 MiB\n",
      "23/09/30 12:20:05 WARN DAGScheduler: Broadcasting large task binary with size 1577.4 KiB\n",
      "                                                                                \r"
     ]
    }
   ],
   "source": [
    "cv_model = crossval.fit(train_data)"
   ],
   "metadata": {
    "collapsed": false,
    "ExecuteTime": {
     "end_time": "2023-09-30T10:20:06.572303Z",
     "start_time": "2023-09-30T10:17:17.196138Z"
    }
   },
   "id": "267b0acf5b7ac9d"
  },
  {
   "cell_type": "code",
   "execution_count": 22,
   "outputs": [],
   "source": [
    "best_rf_model = cv_model.bestModel"
   ],
   "metadata": {
    "collapsed": false,
    "ExecuteTime": {
     "end_time": "2023-09-30T10:20:06.579576Z",
     "start_time": "2023-09-30T10:20:06.571986Z"
    }
   },
   "id": "d137a30a289cd435"
  },
  {
   "cell_type": "code",
   "execution_count": 23,
   "outputs": [],
   "source": [
    "rf_predictions = best_rf_model.transform(test_data)"
   ],
   "metadata": {
    "collapsed": false,
    "ExecuteTime": {
     "end_time": "2023-09-30T10:20:07.191274Z",
     "start_time": "2023-09-30T10:20:06.577548Z"
    }
   },
   "id": "b5c1b5255a593601"
  },
  {
   "cell_type": "code",
   "execution_count": 24,
   "outputs": [],
   "source": [
    "# Convert predictions to Pandas DataFrame for plotting\n",
    "predictions_pd = rf_predictions.select(\"Index\", \"close\", \"prediction\").toPandas()\n",
    "\n",
    "# Extract the actual \"close\" values and timestamp\n",
    "actual_close = predictions_pd[\"close\"]\n",
    "dates = predictions_pd[\"Index\"]\n",
    "\n",
    "# Extract the predicted values\n",
    "predicted_close = predictions_pd[\"prediction\"]"
   ],
   "metadata": {
    "collapsed": false,
    "ExecuteTime": {
     "end_time": "2023-09-30T10:20:08.012805Z",
     "start_time": "2023-09-30T10:20:07.192157Z"
    }
   },
   "id": "85872c19ea3eb"
  },
  {
   "cell_type": "code",
   "execution_count": 25,
   "outputs": [
    {
     "data": {
      "text/plain": "<Figure size 1200x600 with 1 Axes>",
      "image/png": "[encoded data removed]"
     },
     "metadata": {},
     "output_type": "display_data"
    }
   ],
   "source": [
    "# Create a time series plot\n",
    "plt.figure(figsize=(12, 6))\n",
    "plt.plot(dates, actual_close, label=\"Actual Close\", color=\"b\")\n",
    "plt.plot(dates, predicted_close, label=\"Predicted Close\", color=\"r\")\n",
    "plt.xlabel(\"Date\")\n",
    "plt.ylabel(\"Close Price\")\n",
    "plt.title(\"Actual vs. Predicted Close Prices\")\n",
    "plt.legend()\n",
    "plt.grid(True)\n",
    "plt.show()"
   ],
   "metadata": {
    "collapsed": false,
    "ExecuteTime": {
     "end_time": "2023-09-30T10:20:08.153656Z",
     "start_time": "2023-09-30T10:20:08.014385Z"
    }
   },
   "id": "b7a9d8b9622c414e"
  },
  {
   "cell_type": "code",
   "execution_count": 25,
   "outputs": [],
   "source": [],
   "metadata": {
    "collapsed": false,
    "ExecuteTime": {
     "end_time": "2023-09-30T10:20:08.155052Z",
     "start_time": "2023-09-30T10:20:08.153003Z"
    }
   },
   "id": "af68ada1a464e332"
  }
 ],
 "metadata": {
  "kernelspec": {
   "display_name": "Python 3",
   "language": "python",
   "name": "python3"
  },
  "language_info": {
   "codemirror_mode": {
    "name": "ipython",
    "version": 2
   },
   "file_extension": ".py",
   "mimetype": "text/x-python",
   "name": "python",
   "nbconvert_exporter": "python",
   "pygments_lexer": "ipython2",
   "version": "2.7.6"
  }
 },
 "nbformat": 4,
 "nbformat_minor": 5
}
