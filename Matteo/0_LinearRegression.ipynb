{
 "cells": [
  {
   "cell_type": "code",
   "execution_count": 1,
   "id": "initial_id",
   "metadata": {
    "collapsed": true,
    "ExecuteTime": {
     "end_time": "2023-10-05T13:00:59.458547Z",
     "start_time": "2023-10-05T13:00:58.904809Z"
    }
   },
   "outputs": [
    {
     "name": "stderr",
     "output_type": "stream",
     "text": [
      "/Users/matteopancini/opt/anaconda3/envs/notensor/lib/python3.9/site-packages/pyspark/pandas/__init__.py:50: UserWarning: 'PYARROW_IGNORE_TIMEZONE' environment variable was not set. It is required to set this environment variable to '1' in both driver and executor sides if you use pyarrow>=2.0.0. pandas-on-Spark will set it for you but it does not work if there is a Spark context already launched.\n",
      "  warnings.warn(\n"
     ]
    }
   ],
   "source": [
    "from pyspark.ml.regression import LinearRegression\n",
    "from pyspark.ml.evaluation import RegressionEvaluator\n",
    "from pyspark.ml.feature import VectorAssembler\n",
    "from yahoo_fin import stock_info as si\n",
    "import datetime as dt\n",
    "from pyspark.ml import Pipeline\n",
    "import pandas_datareader as pdr\n",
    "import matplotlib.pyplot as plt\n",
    "from pyspark.sql.functions import year, month, dayofmonth, concat, lit, lpad, col, collect_list\n",
    "from pyspark.sql import SparkSession\n",
    "from pyspark.sql.functions import monotonically_increasing_id\n",
    "import pandas as pd\n",
    "import pyspark.sql.functions as F\n",
    "from pyspark.sql.functions import unix_timestamp\n",
    "\n",
    "from pyspark.sql.window import Window\n",
    "import pyspark.pandas as ps"
   ]
  },
  {
   "cell_type": "markdown",
   "source": [
    "# Data Collection"
   ],
   "metadata": {
    "collapsed": false
   },
   "id": "d10d23aa8e072ef"
  },
  {
   "cell_type": "code",
   "execution_count": 2,
   "outputs": [],
   "source": [
    "ticker = 'TSLA'\n",
    "start_date = dt.datetime(2013, 9, 30)\n",
    "end_date = dt.datetime(2023, 1, 1)\n",
    "fred_symbols = ['SP500', 'DJIA', 'NASDAQCOM', 'VIXCLS', 'GVZCLS', 'DTWEXBGS', 'IUDSOIA', 'BAMLHE00EHYIEY', 'DFF', 'T10Y2Y', 'DGS10', 'T10YIE', 'T5YIE', 'DTB3']"
   ],
   "metadata": {
    "collapsed": false,
    "ExecuteTime": {
     "end_time": "2023-10-05T13:00:59.462175Z",
     "start_time": "2023-10-05T13:00:59.460410Z"
    }
   },
   "id": "cafe69a8b429b63a"
  },
  {
   "cell_type": "code",
   "execution_count": 3,
   "outputs": [],
   "source": [
    "historical_data = si.get_data(ticker, start_date, end_date, interval='1d')\n",
    "fred_df = pdr.get_data_fred(fred_symbols, start_date, end_date)"
   ],
   "metadata": {
    "collapsed": false,
    "ExecuteTime": {
     "end_time": "2023-10-05T13:01:04.824276Z",
     "start_time": "2023-10-05T13:00:59.464964Z"
    }
   },
   "id": "5132e82f591811da"
  },
  {
   "cell_type": "markdown",
   "source": [
    "# Data Pre-Processing with Spark"
   ],
   "metadata": {
    "collapsed": false
   },
   "id": "45ddcfaad26822f4"
  },
  {
   "cell_type": "code",
   "execution_count": 4,
   "outputs": [
    {
     "name": "stderr",
     "output_type": "stream",
     "text": [
      "Setting default log level to \"WARN\".\n",
      "To adjust logging level use sc.setLogLevel(newLevel). For SparkR, use setLogLevel(newLevel).\n",
      "23/10/05 15:01:06 WARN NativeCodeLoader: Unable to load native-hadoop library for your platform... using builtin-java classes where applicable\n"
     ]
    }
   ],
   "source": [
    "# Initialize SparkSession\n",
    "spark = SparkSession.builder \\\n",
    "    .appName(\"StockPrediction\") \\\n",
    "    .config(\"spark.sql.debug.maxToStringFields\", \"100\") \\\n",
    "    .getOrCreate()"
   ],
   "metadata": {
    "collapsed": false,
    "ExecuteTime": {
     "end_time": "2023-10-05T13:01:07.200931Z",
     "start_time": "2023-10-05T13:01:04.826118Z"
    }
   },
   "id": "31a57cc4f875483"
  },
  {
   "cell_type": "code",
   "execution_count": 5,
   "outputs": [],
   "source": [
    "historical_data_spark = spark.createDataFrame(historical_data.reset_index())\n",
    "fred_df_spark = spark.createDataFrame(fred_df.reset_index())"
   ],
   "metadata": {
    "collapsed": false,
    "ExecuteTime": {
     "end_time": "2023-10-05T13:01:09.391557Z",
     "start_time": "2023-10-05T13:01:07.203003Z"
    }
   },
   "id": "188fdec6082b3bb8"
  },
  {
   "cell_type": "code",
   "execution_count": 6,
   "outputs": [],
   "source": [
    "historical_data_spark = historical_data_spark.withColumnRenamed(\"index\", \"DATE\")\n",
    "historical_data_spark = historical_data_spark.drop('ticker', 'adjclose')\n",
    "\n",
    "historical_data_spark = historical_data_spark.withColumn(\"year\", year(\"DATE\"))\n",
    "historical_data_spark = historical_data_spark.withColumn(\"month\", month(\"DATE\"))\n",
    "historical_data_spark = historical_data_spark.withColumn(\"day\", dayofmonth(\"DATE\"))\n",
    "historical_data_spark = historical_data_spark.withColumn('fulldate', concat(historical_data_spark['year'],\n",
    "                                       lpad(historical_data_spark['month'], 2, '0'),\n",
    "                                       lpad(historical_data_spark['day'], 2, '0')))\n",
    "historical_data_spark = historical_data_spark.withColumn('fulldate', historical_data_spark['fulldate'].cast('int'))"
   ],
   "metadata": {
    "collapsed": false,
    "ExecuteTime": {
     "end_time": "2023-10-05T13:01:09.525655Z",
     "start_time": "2023-10-05T13:01:09.394313Z"
    }
   },
   "id": "9257e51c06f55fef"
  },
  {
   "cell_type": "code",
   "execution_count": 7,
   "outputs": [],
   "source": [
    "fred_df_spark = fred_df_spark.withColumn(\"Index\", monotonically_increasing_id())\n",
    "#fred_df_spark.show()"
   ],
   "metadata": {
    "collapsed": false,
    "ExecuteTime": {
     "end_time": "2023-10-05T13:01:09.536523Z",
     "start_time": "2023-10-05T13:01:09.526802Z"
    }
   },
   "id": "536e1555f4f7217a"
  },
  {
   "cell_type": "code",
   "execution_count": 8,
   "outputs": [],
   "source": [
    "dataset_spark = historical_data_spark.join(fred_df_spark, on=\"DATE\", how=\"left\")\n",
    "dataset_spark = dataset_spark.orderBy(\"DATE\")\n",
    "dataset_spark = dataset_spark.withColumn(\"Index\", monotonically_increasing_id())\n",
    "#dataset_spark.show()"
   ],
   "metadata": {
    "collapsed": false,
    "ExecuteTime": {
     "end_time": "2023-10-05T13:01:09.587073Z",
     "start_time": "2023-10-05T13:01:09.537913Z"
    }
   },
   "id": "b76706a56a1bb8c1"
  },
  {
   "cell_type": "code",
   "execution_count": 9,
   "outputs": [
    {
     "name": "stderr",
     "output_type": "stream",
     "text": [
      "Java HotSpot(TM) 64-Bit Server VM warning: CodeCache is full. Compiler has been disabled.\n",
      "Java HotSpot(TM) 64-Bit Server VM warning: Try increasing the code cache size using -XX:ReservedCodeCacheSize=\n",
      "[Stage 1:>                                                        (0 + 10) / 10]\r"
     ]
    },
    {
     "name": "stdout",
     "output_type": "stream",
     "text": [
      "CodeCache: size=131072Kb used=17359Kb max_used=17359Kb free=113712Kb\n",
      " bounds [0x0000000103fd4000, 0x00000001050e4000, 0x000000010bfd4000]\n",
      " total_blobs=7335 nmethods=6488 adapters=757\n",
      " compilation: disabled (not enough contiguous free space left)\n"
     ]
    },
    {
     "name": "stderr",
     "output_type": "stream",
     "text": [
      "                                                                                \r"
     ]
    },
    {
     "name": "stdout",
     "output_type": "stream",
     "text": [
      "+--------+\n",
      "|count(1)|\n",
      "+--------+\n",
      "|    2331|\n",
      "+--------+\n",
      "+--------+\n",
      "|count(1)|\n",
      "+--------+\n",
      "|       0|\n",
      "+--------+\n",
      "+--------+\n",
      "|count(1)|\n",
      "+--------+\n",
      "|       0|\n",
      "+--------+\n",
      "+--------+\n",
      "|count(1)|\n",
      "+--------+\n",
      "|       0|\n",
      "+--------+\n",
      "+--------+\n",
      "|count(1)|\n",
      "+--------+\n",
      "|       0|\n",
      "+--------+\n",
      "Number of rows in the DataFrame:  2331\n"
     ]
    }
   ],
   "source": [
    "# Use Spark SQL to get some basic statistics and print the results\n",
    "dataset_spark.createOrReplaceTempView(\"dataset_spark\")\n",
    "spark.sql(\"SELECT COUNT(*) FROM dataset_spark\").show()\n",
    "spark.sql(\"SELECT COUNT(*) FROM dataset_spark WHERE close IS NULL\").show()\n",
    "spark.sql(\"SELECT COUNT(*) FROM dataset_spark WHERE SP500 IS NULL\").show()\n",
    "spark.sql(\"SELECT COUNT(*) FROM dataset_spark WHERE DJIA IS NULL\").show()\n",
    "spark.sql(\"SELECT COUNT(*) FROM dataset_spark WHERE NASDAQCOM IS NULL\").show()\n",
    "\n",
    "print(\"Number of rows in the DataFrame: \", dataset_spark.count())"
   ],
   "metadata": {
    "collapsed": false,
    "ExecuteTime": {
     "end_time": "2023-10-05T13:01:14.532033Z",
     "start_time": "2023-10-05T13:01:09.588468Z"
    }
   },
   "id": "1cf66715579363d1"
  },
  {
   "cell_type": "code",
   "execution_count": 10,
   "outputs": [
    {
     "name": "stdout",
     "output_type": "stream",
     "text": [
      "+-----------------+-----------------+-----------------+------------------+\n",
      "|        min_close|        max_close|       mean_close|      stddev_close|\n",
      "+-----------------+-----------------+-----------------+------------------+\n",
      "|8.033332824707031|409.9700012207031|78.50024281955491|104.10943561376506|\n",
      "+-----------------+-----------------+-----------------+------------------+\n"
     ]
    },
    {
     "data": {
      "text/plain": "<Figure size 1000x600 with 1 Axes>",
      "image/png": "[encoded data removed]"
     },
     "metadata": {},
     "output_type": "display_data"
    }
   ],
   "source": [
    "# Calculate summary statistics for the \"close\" column\n",
    "summary_query = \"SELECT MIN(close) AS min_close, MAX(close) AS max_close, AVG(close) AS mean_close, STDDEV(close) AS stddev_close FROM dataset_spark\"\n",
    "summary_result = spark.sql(summary_query)\n",
    "summary_result.show()\n",
    "\n",
    "# Define the number of bins for the histogram\n",
    "num_bins = 20\n",
    "\n",
    "# Calculate bin width\n",
    "bin_width = (summary_result.collect()[0][\"max_close\"] - summary_result.collect()[0][\"min_close\"]) / num_bins\n",
    "\n",
    "# Generate the histogram data\n",
    "histogram_query = f\"SELECT CAST((close - {summary_result.collect()[0]['min_close']}) / {bin_width} AS INT) AS bin, COUNT(*) AS frequency FROM dataset_spark GROUP BY bin ORDER BY bin\"\n",
    "histogram_data = spark.sql(histogram_query)\n",
    "\n",
    "# Collect the histogram data to the driver\n",
    "histogram_data_df = histogram_data.toPandas()\n",
    "\n",
    "# Plot the histogram using Matplotlib\n",
    "import matplotlib.pyplot as plt\n",
    "\n",
    "plt.figure(figsize=(10, 6))\n",
    "plt.bar(histogram_data_df[\"bin\"] * bin_width + summary_result.collect()[0][\"min_close\"], histogram_data_df[\"frequency\"], width=bin_width, edgecolor='k')\n",
    "plt.xlabel(\"Close Price\")\n",
    "plt.ylabel(\"Frequency\")\n",
    "plt.title(\"Histogram of Close Prices\")\n",
    "plt.show()"
   ],
   "metadata": {
    "collapsed": false,
    "ExecuteTime": {
     "end_time": "2023-10-05T13:01:20.180050Z",
     "start_time": "2023-10-05T13:01:17.789097Z"
    }
   },
   "id": "a8ae7886a93c695c"
  },
  {
   "cell_type": "code",
   "execution_count": 10,
   "outputs": [],
   "source": [
    "#dataset_spark = dataset_spark.drop(\"fulldate\")"
   ],
   "metadata": {
    "collapsed": false,
    "ExecuteTime": {
     "end_time": "2023-10-02T12:41:58.215625Z",
     "start_time": "2023-10-02T12:41:58.212334Z"
    }
   },
   "id": "60b2ca8d27b16893"
  },
  {
   "cell_type": "code",
   "execution_count": 11,
   "outputs": [
    {
     "name": "stdout",
     "output_type": "stream",
     "text": [
      "+-------------------+------------------+------------------+------------------+------------------+---------+----+-----+---+--------+-------+--------+---------+------+------+--------+-------+--------------+----+------+-----+------+-----+----+-----+\n",
      "|               DATE|              open|              high|               low|             close|   volume|year|month|day|fulldate|  SP500|    DJIA|NASDAQCOM|VIXCLS|GVZCLS|DTWEXBGS|IUDSOIA|BAMLHE00EHYIEY| DFF|T10Y2Y|DGS10|T10YIE|T5YIE|DTB3|Index|\n",
      "+-------------------+------------------+------------------+------------------+------------------+---------+----+-----+---+--------+-------+--------+---------+------+------+--------+-------+--------------+----+------+-----+------+-----+----+-----+\n",
      "|2013-09-30 00:00:00|12.600000381469727|12.966667175292969|12.533332824707031|12.891332626342773|133870500|2013|    9| 30|20130930|1681.55|15129.67|  3771.48|  16.6| 23.72| 92.9207|  0.411|           5.5|0.06|  2.31| 2.64|  2.19| 1.74|0.02|    0|\n",
      "|2013-10-01 00:00:00| 12.93066692352295|  12.9486665725708|12.557999610900879|12.866666793823242|116338500|2013|   10|  1|20131001| 1695.0| 15191.7|  3817.98| 15.54| 25.48| 92.9515| 0.4345|          5.46|0.08|  2.33| 2.66|   2.2| 1.77|0.02|    1|\n",
      "|2013-10-02 00:00:00|12.572667121887207|12.788666725158691| 11.69333267211914|12.063332557678223|311631000|2013|   10|  2|20131002|1693.87|15133.14|  3815.02|  16.6| 24.04|  92.772| 0.4288|          5.41|0.07|  2.32| 2.63|   2.2|  1.8|0.02|    2|\n",
      "|2013-10-03 00:00:00|11.670000076293945| 11.97933292388916|11.199999809265137|11.553999900817871|357247500|2013|   10|  3|20131003|1678.66|14996.48|  3774.34| 17.67| 24.54| 92.7461| 0.4362|          5.38|0.08|  2.29| 2.62|  2.19| 1.77|0.03|    3|\n",
      "|2013-10-04 00:00:00|11.760000228881836|12.078666687011719|11.510000228881836|12.065333366394043|216210000|2013|   10|  4|20131004| 1690.5|15072.58|  3807.75| 16.74| 24.77| 92.6469| 0.4315|          5.35|0.08|  2.33| 2.66|   2.2| 1.79|0.03|    4|\n",
      "|2013-10-07 00:00:00|12.163999557495117|  12.4486665725708|12.017333030700684|12.204667091369629|172284000|2013|   10|  7|20131007|1676.12|14936.24|  3770.38| 19.41| 24.81| 92.6725| 0.4335|          5.31|0.08|  2.28| 2.65|   2.2| 1.79|0.03|    5|\n",
      "|2013-10-08 00:00:00|12.293333053588867|12.395333290100098|11.547332763671875|11.648667335510254|206358000|2013|   10|  8|20131008|1655.45|14776.53|  3694.83| 20.34| 25.44| 92.7558| 0.4346|          5.29|0.08|  2.26| 2.66|  2.18| 1.76|0.05|    6|\n",
      "|2013-10-09 00:00:00|11.648667335510254|11.666000366210938|10.766667366027832|11.251999855041504|229747500|2013|   10|  9|20131009| 1656.4|14802.98|  3677.78|  19.6| 25.81| 93.0829| 0.4333|          5.29|0.09|  2.31| 2.68|  2.21| 1.78|0.05|    7|\n",
      "|2013-10-10 00:00:00| 11.53933334350586|11.716667175292969|11.312666893005371|11.528667449951172|133258500|2013|   10| 10|20131010|1692.56|15126.07|  3760.75| 16.48| 25.36| 92.8579| 0.4307|          5.25|0.09|  2.36| 2.71|  2.21| 1.81|0.05|    8|\n",
      "|2013-10-11 00:00:00|11.516667366027832|11.952667236328125| 11.41333293914795| 11.91333293914795|124666500|2013|   10| 11|20131011| 1703.2|15237.11|  3791.87| 15.72| 25.83|  92.854| 0.4283|           5.2| 0.1|  2.35|  2.7|   2.2| 1.79|0.08|    9|\n",
      "|2013-10-15 00:00:00| 12.35200023651123|12.586000442504883|12.211999893188477|12.262666702270508|164677500|2013|   10| 15|20131015|1698.06|15168.01|  3794.01| 18.66| 26.07| 92.7642| 0.4337|          5.12| 0.1|  2.38| 2.75|  2.21| 1.79|0.14|   11|\n",
      "|2013-10-16 00:00:00|12.326666831970215|12.486666679382324| 12.13933277130127|12.237333297729492|123081000|2013|   10| 16|20131016|1721.54|15373.83|  3839.43| 14.71| 24.72| 92.6819| 0.4313|          5.12|0.11|  2.35| 2.69|  2.19| 1.79| 0.1|   12|\n",
      "|2013-10-17 00:00:00|12.236000061035156|12.319999694824219|12.065999984741211|12.186667442321777|100575000|2013|   10| 17|20131017|1733.15|15371.65|  3863.15| 13.48| 22.31| 92.0246| 0.4277|          5.05| 0.1|  2.28| 2.61|  2.16| 1.77|0.05|   13|\n",
      "|2013-10-18 00:00:00|12.276666641235352|12.397333145141602|12.168000221252441|12.226667404174805| 88962000|2013|   10| 18|20131018| 1744.5|15399.65|  3914.28| 13.04| 21.43| 91.9989| 0.4322|           5.0| 0.1|  2.27|  2.6|  2.18| 1.78|0.04|   14|\n",
      "|2013-10-21 00:00:00|12.218667030334473| 12.22599983215332|11.399999618530273|11.506667137145996|172981500|2013|   10| 21|20131021|1744.66| 15392.2|  3920.05| 13.16| 21.52| 92.2498| 0.4332|          4.97|0.09|   2.3| 2.63|  2.19| 1.79|0.04|   15|\n",
      "|2013-10-22 00:00:00|11.366666793823242| 11.85200023651123|11.074000358581543|11.435999870300293|170800500|2013|   10| 22|20131022|1754.67|15467.66|  3929.57| 13.33| 20.75| 91.9563| 0.4309|          4.94|0.08|  2.23| 2.54|  2.17| 1.76|0.04|   16|\n",
      "|2013-10-23 00:00:00|11.260666847229004|11.454000473022461|10.676667213439941|10.966667175292969|199806000|2013|   10| 23|20131023|1746.38|15413.33|  3907.07| 13.42| 20.52| 92.0947| 0.4317|          4.94|0.08|   2.2| 2.51|  2.15| 1.76|0.04|   17|\n",
      "|2013-10-24 00:00:00|              11.0|11.633333206176758| 10.85533332824707|11.543333053588867|162385500|2013|   10| 24|20131024|1752.07|15509.21|  3928.96|  13.2| 20.67| 92.1867| 0.4316|          4.96|0.08|   2.2| 2.53|  2.17| 1.77|0.03|   18|\n",
      "|2013-10-25 00:00:00| 11.61400032043457|11.633333206176758|11.119999885559082|11.310667037963867|113932500|2013|   10| 25|20131025|1759.77|15570.28|  3943.36| 13.09|  19.9| 92.1623|  0.433|          4.97|0.08|  2.21| 2.53|  2.19| 1.77|0.04|   19|\n",
      "|2013-10-28 00:00:00|11.345333099365234|11.366666793823242|10.813332557678223|10.857333183288574|117625500|2013|   10| 28|20131028|1762.11|15568.93|  3940.13| 13.31| 20.32| 92.1872| 0.4322|          4.96|0.08|  2.22| 2.54|  2.19| 1.79|0.04|   20|\n",
      "+-------------------+------------------+------------------+------------------+------------------+---------+----+-----+---+--------+-------+--------+---------+------+------+--------+-------+--------------+----+------+-----+------+-----+----+-----+\n"
     ]
    }
   ],
   "source": [
    "# Drop rows where 'column1' or 'column2' have null values\n",
    "dataset_spark = dataset_spark.dropna()\n",
    "dataset_spark.show()"
   ],
   "metadata": {
    "collapsed": false,
    "ExecuteTime": {
     "end_time": "2023-10-02T12:41:59.176488Z",
     "start_time": "2023-10-02T12:41:58.216352Z"
    }
   },
   "id": "64e75f2c741fe0c0"
  },
  {
   "cell_type": "code",
   "execution_count": 12,
   "outputs": [
    {
     "name": "stdout",
     "output_type": "stream",
     "text": [
      "Number of rows in the DataFrame:  2248\n"
     ]
    }
   ],
   "source": [
    "# Assuming 'df' is your Spark DataFrame\n",
    "row_count = dataset_spark.count()\n",
    "\n",
    "# Print the row count\n",
    "print(\"Number of rows in the DataFrame: \", row_count)"
   ],
   "metadata": {
    "collapsed": false,
    "ExecuteTime": {
     "end_time": "2023-10-02T12:41:59.854922Z",
     "start_time": "2023-10-02T12:41:59.179659Z"
    }
   },
   "id": "588f9207945c41af"
  },
  {
   "cell_type": "code",
   "execution_count": 13,
   "outputs": [],
   "source": [
    "# Save into an array the DATE column\n",
    "dates = dataset_spark.select(\"DATE\").collect()\n",
    "# Dates to convert into pandas array\n",
    "dates = [date[0] for date in dates]\n",
    "dataset_spark_training = dataset_spark.drop(\"DATE\")"
   ],
   "metadata": {
    "collapsed": false,
    "ExecuteTime": {
     "end_time": "2023-10-02T12:42:00.445628Z",
     "start_time": "2023-10-02T12:41:59.856139Z"
    }
   },
   "id": "44e1fcf1bda9b0db"
  },
  {
   "cell_type": "code",
   "execution_count": 27,
   "outputs": [],
   "source": [
    "# Save into an array the close column\n",
    "all_closes = dataset_spark.select(\"close\").collect()"
   ],
   "metadata": {
    "collapsed": false,
    "ExecuteTime": {
     "end_time": "2023-10-02T12:43:47.402156Z",
     "start_time": "2023-10-02T12:43:46.738554Z"
    }
   },
   "id": "8b444179e764e92d"
  },
  {
   "cell_type": "markdown",
   "source": [
    "# MLLib"
   ],
   "metadata": {
    "collapsed": false
   },
   "id": "c949be5ddcf010a9"
  },
  {
   "cell_type": "code",
   "execution_count": 14,
   "outputs": [],
   "source": [
    "# Prepare data for MLlib\n",
    "feature_columns = [col_name for col_name in dataset_spark_training.columns if col_name != 'close']\n",
    "vector_assembler = VectorAssembler(inputCols=feature_columns, outputCol=\"features\")\n",
    "# Determine the split point based on the desired ratio\n",
    "split_ratio = 0.8  # 80% for training, 20% for testing\n",
    "split_point = int(dataset_spark_training.count() * split_ratio)\n",
    "\n",
    "# Split the data into training and testing sets\n",
    "train_data = dataset_spark_training.limit(split_point)\n",
    "test_data = dataset_spark_training.subtract(train_data)\n",
    "\n",
    "# Reorder by index\n",
    "train_data = train_data.orderBy(\"Index\")\n",
    "test_data = test_data.orderBy(\"Index\")"
   ],
   "metadata": {
    "collapsed": false,
    "ExecuteTime": {
     "end_time": "2023-10-02T12:42:01.067077Z",
     "start_time": "2023-10-02T12:42:00.447236Z"
    }
   },
   "id": "7891fd4d136afa1a"
  },
  {
   "cell_type": "code",
   "execution_count": 15,
   "outputs": [
    {
     "name": "stdout",
     "output_type": "stream",
     "text": [
      "Number of rows in the training data set:  1798\n",
      "Number of rows in the testing data set:  450\n"
     ]
    }
   ],
   "source": [
    "# Count the number of rows in each DataFrame\n",
    "print(\"Number of rows in the training data set: \", train_data.count())\n",
    "print(\"Number of rows in the testing data set: \", test_data.count())"
   ],
   "metadata": {
    "collapsed": false,
    "ExecuteTime": {
     "end_time": "2023-10-02T12:42:02.834750Z",
     "start_time": "2023-10-02T12:42:01.067805Z"
    }
   },
   "id": "a0deb00b9db53d63"
  },
  {
   "cell_type": "markdown",
   "source": [
    "# Linear Regression"
   ],
   "metadata": {
    "collapsed": false
   },
   "id": "ff28a6e79846b0df"
  },
  {
   "cell_type": "code",
   "execution_count": 16,
   "outputs": [],
   "source": [
    "lr = LinearRegression(labelCol='close', featuresCol='features')"
   ],
   "metadata": {
    "collapsed": false,
    "ExecuteTime": {
     "end_time": "2023-10-02T12:42:02.868242Z",
     "start_time": "2023-10-02T12:42:02.836376Z"
    }
   },
   "id": "dc08e8a760222bf9"
  },
  {
   "cell_type": "code",
   "execution_count": 17,
   "outputs": [],
   "source": [
    "pipeline = Pipeline(stages=[vector_assembler, lr])"
   ],
   "metadata": {
    "collapsed": false,
    "ExecuteTime": {
     "end_time": "2023-10-02T12:42:02.874344Z",
     "start_time": "2023-10-02T12:42:02.868938Z"
    }
   },
   "id": "142d5db79de7f370"
  },
  {
   "cell_type": "code",
   "execution_count": 18,
   "outputs": [
    {
     "name": "stderr",
     "output_type": "stream",
     "text": [
      "23/10/02 14:42:04 WARN Instrumentation: [e7a30c48] regParam is zero, which might cause numerical instability and overfitting.\n",
      "23/10/02 14:42:04 WARN InstanceBuilder: Failed to load implementation from:dev.ludovic.netlib.blas.JNIBLAS\n",
      "23/10/02 14:42:04 WARN InstanceBuilder: Failed to load implementation from:dev.ludovic.netlib.lapack.JNILAPACK\n"
     ]
    }
   ],
   "source": [
    "# Linear Regression in Spark\n",
    "lr_model = pipeline.fit(train_data)"
   ],
   "metadata": {
    "collapsed": false,
    "ExecuteTime": {
     "end_time": "2023-10-02T12:42:05.405825Z",
     "start_time": "2023-10-02T12:42:02.873237Z"
    }
   },
   "id": "e907896e1218e0ca"
  },
  {
   "cell_type": "code",
   "execution_count": 19,
   "outputs": [],
   "source": [
    "# Model Evaluation in Spark\n",
    "lr_predictions = lr_model.transform(test_data)\n",
    "evaluator = RegressionEvaluator(labelCol=\"close\", predictionCol=\"prediction\", metricName=\"rmse\")"
   ],
   "metadata": {
    "collapsed": false,
    "ExecuteTime": {
     "end_time": "2023-10-02T12:42:05.475660Z",
     "start_time": "2023-10-02T12:42:05.406324Z"
    }
   },
   "id": "af3632118abab185"
  },
  {
   "cell_type": "code",
   "execution_count": 20,
   "outputs": [
    {
     "data": {
      "text/plain": "4.020249073297718"
     },
     "execution_count": 20,
     "metadata": {},
     "output_type": "execute_result"
    }
   ],
   "source": [
    "lr_rmse = evaluator.evaluate(lr_predictions)\n",
    "lr_rmse"
   ],
   "metadata": {
    "collapsed": false,
    "ExecuteTime": {
     "end_time": "2023-10-02T12:42:06.381021Z",
     "start_time": "2023-10-02T12:42:05.476099Z"
    }
   },
   "id": "2afa011b14e0310f"
  },
  {
   "cell_type": "code",
   "execution_count": 21,
   "outputs": [],
   "source": [
    "# Convert lr_predictions DataFrame to Pandas DataFrame\n",
    "predictions_pd = lr_predictions.select(\"Index\", \"close\", \"prediction\").toPandas()\n",
    "\n",
    "# Extract the actual \"close\" values and timestamp\n",
    "actual_close = predictions_pd[\"close\"]\n",
    "#dates = predictions_pd[\"Index\"]\n",
    "\n",
    "# Extract the predicted values\n",
    "predicted_close = predictions_pd[\"prediction\"]"
   ],
   "metadata": {
    "collapsed": false,
    "ExecuteTime": {
     "end_time": "2023-10-02T12:42:07.266499Z",
     "start_time": "2023-10-02T12:42:06.382021Z"
    }
   },
   "id": "85872c19ea3eb"
  },
  {
   "cell_type": "code",
   "execution_count": 29,
   "outputs": [],
   "source": [
    "# Take just last 20% of dates (the testing set)\n",
    "dates_test = dates[split_point:]"
   ],
   "metadata": {
    "collapsed": false,
    "ExecuteTime": {
     "end_time": "2023-10-02T12:43:54.744746Z",
     "start_time": "2023-10-02T12:43:54.740570Z"
    }
   },
   "id": "9e83cdcdce4e1a32"
  },
  {
   "cell_type": "code",
   "execution_count": 31,
   "outputs": [
    {
     "data": {
      "text/plain": "<Figure size 1200x600 with 1 Axes>",
      "image/png": "[encoded data removed]"
     },
     "metadata": {},
     "output_type": "display_data"
    }
   ],
   "source": [
    "# Create a time series plot also with all training data\n",
    "plt.figure(figsize=(12, 6))\n",
    "plt.plot(dates, all_closes, color=\"b\")\n",
    "plt.plot(dates_test, actual_close, label=\"Actual Close\", color=\"b\")\n",
    "plt.plot(dates_test, predicted_close, label=\"Predicted Close\", color=\"r\")\n",
    "plt.xlabel(\"Date\")\n",
    "plt.ylabel(\"Close Price\")\n",
    "plt.title(\"Actual vs. Predicted Close Prices\")\n",
    "plt.legend()\n",
    "plt.grid(True)\n",
    "plt.show()"
   ],
   "metadata": {
    "collapsed": false,
    "ExecuteTime": {
     "end_time": "2023-10-02T12:44:12.588998Z",
     "start_time": "2023-10-02T12:44:12.377306Z"
    }
   },
   "id": "b7a9d8b9622c414e"
  },
  {
   "cell_type": "code",
   "execution_count": 32,
   "outputs": [],
   "source": [
    "def predict_future_close_prices(model_fit, future_timestamps):\n",
    "    # Create a DataFrame for future timestamps\n",
    "    future_data = pd.DataFrame({'fulldate': future_timestamps}).astype({'fulldate': 'int'})\n",
    "\n",
    "    # Create a Spark DataFrame from the Pandas DataFrame\n",
    "    future_data_spark = spark.createDataFrame(future_data)\n",
    "\n",
    "    # Use the vector assembler to assemble features\n",
    "    future_data_spark = vector_assembler.transform(future_data_spark)\n",
    "\n",
    "    # Make predictions for future timestamps\n",
    "    future_predictions = model_fit.transform(future_data_spark)\n",
    "\n",
    "    # Extract the predicted close prices\n",
    "    future_predicted_close = future_predictions.select(\"prediction\").rdd.map(lambda row: row[0]).collect()\n",
    "\n",
    "    return future_predicted_close\n"
   ],
   "metadata": {
    "collapsed": false,
    "ExecuteTime": {
     "end_time": "2023-10-02T13:05:35.905101Z",
     "start_time": "2023-10-02T13:05:35.897718Z"
    }
   },
   "id": "40a948cb16f19851"
  },
  {
   "cell_type": "code",
   "execution_count": 33,
   "outputs": [],
   "source": [
    "days_into_future = 10\n"
   ],
   "metadata": {
    "collapsed": false,
    "ExecuteTime": {
     "end_time": "2023-10-02T13:05:36.549240Z",
     "start_time": "2023-10-02T13:05:36.545319Z"
    }
   },
   "id": "c6a7043dbc8ccc9e"
  },
  {
   "cell_type": "code",
   "execution_count": 37,
   "outputs": [
    {
     "data": {
      "text/plain": "datetime.datetime(2022, 12, 30, 0, 0)"
     },
     "execution_count": 37,
     "metadata": {},
     "output_type": "execute_result"
    }
   ],
   "source": [
    "# Take last date available in dates\n",
    "last_date = dates[-1]\n",
    "last_date"
   ],
   "metadata": {
    "collapsed": false,
    "ExecuteTime": {
     "end_time": "2023-10-02T13:06:15.774619Z",
     "start_time": "2023-10-02T13:06:15.757621Z"
    }
   },
   "id": "d91b2c48ca459810"
  },
  {
   "cell_type": "code",
   "execution_count": 40,
   "outputs": [],
   "source": [
    "# Create a list of future timestamps\n",
    "future_timestamps = pd.date_range(last_date, periods=days_into_future + 1, freq='D')"
   ],
   "metadata": {
    "collapsed": false,
    "ExecuteTime": {
     "end_time": "2023-10-02T13:06:43.957798Z",
     "start_time": "2023-10-02T13:06:43.950421Z"
    }
   },
   "id": "96a1c4201ff0e312"
  },
  {
   "cell_type": "code",
   "execution_count": 41,
   "outputs": [
    {
     "ename": "IllegalArgumentException",
     "evalue": "open does not exist. Available: fulldate",
     "output_type": "error",
     "traceback": [
      "\u001B[0;31m---------------------------------------------------------------------------\u001B[0m",
      "\u001B[0;31mIllegalArgumentException\u001B[0m                  Traceback (most recent call last)",
      "\u001B[0;32m/var/folders/tt/9v6608x550n51759gpcrffsc0000gn/T/ipykernel_44212/650630035.py\u001B[0m in \u001B[0;36m<cell line: 2>\u001B[0;34m()\u001B[0m\n\u001B[1;32m      1\u001B[0m \u001B[0;31m# Call the predict_future_close_prices function\u001B[0m\u001B[0;34m\u001B[0m\u001B[0;34m\u001B[0m\u001B[0m\n\u001B[0;32m----> 2\u001B[0;31m \u001B[0mfuture_predicted_close\u001B[0m \u001B[0;34m=\u001B[0m \u001B[0mpredict_future_close_prices\u001B[0m\u001B[0;34m(\u001B[0m\u001B[0mlr_model\u001B[0m\u001B[0;34m,\u001B[0m \u001B[0mfuture_timestamps\u001B[0m\u001B[0;34m)\u001B[0m\u001B[0;34m\u001B[0m\u001B[0;34m\u001B[0m\u001B[0m\n\u001B[0m\u001B[1;32m      3\u001B[0m \u001B[0;34m\u001B[0m\u001B[0m\n\u001B[1;32m      4\u001B[0m \u001B[0;31m# Create a DataFrame for the future predictions\u001B[0m\u001B[0;34m\u001B[0m\u001B[0;34m\u001B[0m\u001B[0m\n\u001B[1;32m      5\u001B[0m \u001B[0mfuture_predictions_df\u001B[0m \u001B[0;34m=\u001B[0m \u001B[0mpd\u001B[0m\u001B[0;34m.\u001B[0m\u001B[0mDataFrame\u001B[0m\u001B[0;34m(\u001B[0m\u001B[0;34m{\u001B[0m\u001B[0;34m'fulldate'\u001B[0m\u001B[0;34m:\u001B[0m \u001B[0mfuture_timestamps\u001B[0m\u001B[0;34m,\u001B[0m \u001B[0;34m'predicted_close'\u001B[0m\u001B[0;34m:\u001B[0m \u001B[0mfuture_predicted_close\u001B[0m\u001B[0;34m}\u001B[0m\u001B[0;34m)\u001B[0m\u001B[0;34m\u001B[0m\u001B[0;34m\u001B[0m\u001B[0m\n",
      "\u001B[0;32m/var/folders/tt/9v6608x550n51759gpcrffsc0000gn/T/ipykernel_44212/448686903.py\u001B[0m in \u001B[0;36mpredict_future_close_prices\u001B[0;34m(model_fit, future_timestamps)\u001B[0m\n\u001B[1;32m      7\u001B[0m \u001B[0;34m\u001B[0m\u001B[0m\n\u001B[1;32m      8\u001B[0m     \u001B[0;31m# Use the vector assembler to assemble features\u001B[0m\u001B[0;34m\u001B[0m\u001B[0;34m\u001B[0m\u001B[0m\n\u001B[0;32m----> 9\u001B[0;31m     \u001B[0mfuture_data_spark\u001B[0m \u001B[0;34m=\u001B[0m \u001B[0mvector_assembler\u001B[0m\u001B[0;34m.\u001B[0m\u001B[0mtransform\u001B[0m\u001B[0;34m(\u001B[0m\u001B[0mfuture_data_spark\u001B[0m\u001B[0;34m)\u001B[0m\u001B[0;34m\u001B[0m\u001B[0;34m\u001B[0m\u001B[0m\n\u001B[0m\u001B[1;32m     10\u001B[0m \u001B[0;34m\u001B[0m\u001B[0m\n\u001B[1;32m     11\u001B[0m     \u001B[0;31m# Make predictions for future timestamps\u001B[0m\u001B[0;34m\u001B[0m\u001B[0;34m\u001B[0m\u001B[0m\n",
      "\u001B[0;32m~/opt/anaconda3/envs/notensor/lib/python3.9/site-packages/pyspark/ml/base.py\u001B[0m in \u001B[0;36mtransform\u001B[0;34m(self, dataset, params)\u001B[0m\n\u001B[1;32m    260\u001B[0m                 \u001B[0;32mreturn\u001B[0m \u001B[0mself\u001B[0m\u001B[0;34m.\u001B[0m\u001B[0mcopy\u001B[0m\u001B[0;34m(\u001B[0m\u001B[0mparams\u001B[0m\u001B[0;34m)\u001B[0m\u001B[0;34m.\u001B[0m\u001B[0m_transform\u001B[0m\u001B[0;34m(\u001B[0m\u001B[0mdataset\u001B[0m\u001B[0;34m)\u001B[0m\u001B[0;34m\u001B[0m\u001B[0;34m\u001B[0m\u001B[0m\n\u001B[1;32m    261\u001B[0m             \u001B[0;32melse\u001B[0m\u001B[0;34m:\u001B[0m\u001B[0;34m\u001B[0m\u001B[0;34m\u001B[0m\u001B[0m\n\u001B[0;32m--> 262\u001B[0;31m                 \u001B[0;32mreturn\u001B[0m \u001B[0mself\u001B[0m\u001B[0;34m.\u001B[0m\u001B[0m_transform\u001B[0m\u001B[0;34m(\u001B[0m\u001B[0mdataset\u001B[0m\u001B[0;34m)\u001B[0m\u001B[0;34m\u001B[0m\u001B[0;34m\u001B[0m\u001B[0m\n\u001B[0m\u001B[1;32m    263\u001B[0m         \u001B[0;32melse\u001B[0m\u001B[0;34m:\u001B[0m\u001B[0;34m\u001B[0m\u001B[0;34m\u001B[0m\u001B[0m\n\u001B[1;32m    264\u001B[0m             \u001B[0;32mraise\u001B[0m \u001B[0mTypeError\u001B[0m\u001B[0;34m(\u001B[0m\u001B[0;34m\"Params must be a param map but got %s.\"\u001B[0m \u001B[0;34m%\u001B[0m \u001B[0mtype\u001B[0m\u001B[0;34m(\u001B[0m\u001B[0mparams\u001B[0m\u001B[0;34m)\u001B[0m\u001B[0;34m)\u001B[0m\u001B[0;34m\u001B[0m\u001B[0;34m\u001B[0m\u001B[0m\n",
      "\u001B[0;32m~/opt/anaconda3/envs/notensor/lib/python3.9/site-packages/pyspark/ml/wrapper.py\u001B[0m in \u001B[0;36m_transform\u001B[0;34m(self, dataset)\u001B[0m\n\u001B[1;32m    396\u001B[0m \u001B[0;34m\u001B[0m\u001B[0m\n\u001B[1;32m    397\u001B[0m         \u001B[0mself\u001B[0m\u001B[0;34m.\u001B[0m\u001B[0m_transfer_params_to_java\u001B[0m\u001B[0;34m(\u001B[0m\u001B[0;34m)\u001B[0m\u001B[0;34m\u001B[0m\u001B[0;34m\u001B[0m\u001B[0m\n\u001B[0;32m--> 398\u001B[0;31m         \u001B[0;32mreturn\u001B[0m \u001B[0mDataFrame\u001B[0m\u001B[0;34m(\u001B[0m\u001B[0mself\u001B[0m\u001B[0;34m.\u001B[0m\u001B[0m_java_obj\u001B[0m\u001B[0;34m.\u001B[0m\u001B[0mtransform\u001B[0m\u001B[0;34m(\u001B[0m\u001B[0mdataset\u001B[0m\u001B[0;34m.\u001B[0m\u001B[0m_jdf\u001B[0m\u001B[0;34m)\u001B[0m\u001B[0;34m,\u001B[0m \u001B[0mdataset\u001B[0m\u001B[0;34m.\u001B[0m\u001B[0msparkSession\u001B[0m\u001B[0;34m)\u001B[0m\u001B[0;34m\u001B[0m\u001B[0;34m\u001B[0m\u001B[0m\n\u001B[0m\u001B[1;32m    399\u001B[0m \u001B[0;34m\u001B[0m\u001B[0m\n\u001B[1;32m    400\u001B[0m \u001B[0;34m\u001B[0m\u001B[0m\n",
      "\u001B[0;32m~/opt/anaconda3/envs/notensor/lib/python3.9/site-packages/py4j/java_gateway.py\u001B[0m in \u001B[0;36m__call__\u001B[0;34m(self, *args)\u001B[0m\n\u001B[1;32m   1320\u001B[0m \u001B[0;34m\u001B[0m\u001B[0m\n\u001B[1;32m   1321\u001B[0m         \u001B[0manswer\u001B[0m \u001B[0;34m=\u001B[0m \u001B[0mself\u001B[0m\u001B[0;34m.\u001B[0m\u001B[0mgateway_client\u001B[0m\u001B[0;34m.\u001B[0m\u001B[0msend_command\u001B[0m\u001B[0;34m(\u001B[0m\u001B[0mcommand\u001B[0m\u001B[0;34m)\u001B[0m\u001B[0;34m\u001B[0m\u001B[0;34m\u001B[0m\u001B[0m\n\u001B[0;32m-> 1322\u001B[0;31m         return_value = get_return_value(\n\u001B[0m\u001B[1;32m   1323\u001B[0m             answer, self.gateway_client, self.target_id, self.name)\n\u001B[1;32m   1324\u001B[0m \u001B[0;34m\u001B[0m\u001B[0m\n",
      "\u001B[0;32m~/opt/anaconda3/envs/notensor/lib/python3.9/site-packages/pyspark/errors/exceptions/captured.py\u001B[0m in \u001B[0;36mdeco\u001B[0;34m(*a, **kw)\u001B[0m\n\u001B[1;32m    173\u001B[0m                 \u001B[0;31m# Hide where the exception came from that shows a non-Pythonic\u001B[0m\u001B[0;34m\u001B[0m\u001B[0;34m\u001B[0m\u001B[0m\n\u001B[1;32m    174\u001B[0m                 \u001B[0;31m# JVM exception message.\u001B[0m\u001B[0;34m\u001B[0m\u001B[0;34m\u001B[0m\u001B[0m\n\u001B[0;32m--> 175\u001B[0;31m                 \u001B[0;32mraise\u001B[0m \u001B[0mconverted\u001B[0m \u001B[0;32mfrom\u001B[0m \u001B[0;32mNone\u001B[0m\u001B[0;34m\u001B[0m\u001B[0;34m\u001B[0m\u001B[0m\n\u001B[0m\u001B[1;32m    176\u001B[0m             \u001B[0;32melse\u001B[0m\u001B[0;34m:\u001B[0m\u001B[0;34m\u001B[0m\u001B[0;34m\u001B[0m\u001B[0m\n\u001B[1;32m    177\u001B[0m                 \u001B[0;32mraise\u001B[0m\u001B[0;34m\u001B[0m\u001B[0;34m\u001B[0m\u001B[0m\n",
      "\u001B[0;31mIllegalArgumentException\u001B[0m: open does not exist. Available: fulldate"
     ]
    }
   ],
   "source": [
    "# Call the predict_future_close_prices function\n",
    "future_predicted_close = predict_future_close_prices(lr_model, future_timestamps)\n",
    "\n",
    "# Create a DataFrame for the future predictions\n",
    "future_predictions_df = pd.DataFrame({'fulldate': future_timestamps, 'predicted_close': future_predicted_close})"
   ],
   "metadata": {
    "collapsed": false,
    "ExecuteTime": {
     "end_time": "2023-10-02T13:06:45.024190Z",
     "start_time": "2023-10-02T13:06:44.945951Z"
    }
   },
   "id": "6f801ac523ec79b7"
  },
  {
   "cell_type": "code",
   "execution_count": null,
   "outputs": [],
   "source": [],
   "metadata": {
    "collapsed": false
   },
   "id": "93297348f1d6bb9d"
  }
 ],
 "metadata": {
  "kernelspec": {
   "display_name": "Python 3",
   "language": "python",
   "name": "python3"
  },
  "language_info": {
   "codemirror_mode": {
    "name": "ipython",
    "version": 2
   },
   "file_extension": ".py",
   "mimetype": "text/x-python",
   "name": "python",
   "nbconvert_exporter": "python",
   "pygments_lexer": "ipython2",
   "version": "2.7.6"
  }
 },
 "nbformat": 4,
 "nbformat_minor": 5
}
