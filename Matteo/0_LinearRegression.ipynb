{
 "cells": [
  {
   "cell_type": "code",
   "execution_count": 1,
   "id": "initial_id",
   "metadata": {
    "collapsed": true,
    "ExecuteTime": {
     "end_time": "2023-09-30T09:29:51.844208Z",
     "start_time": "2023-09-30T09:29:49.830942Z"
    }
   },
   "outputs": [
    {
     "name": "stderr",
     "output_type": "stream",
     "text": [
      "/Users/matteopancini/opt/anaconda3/envs/notensor/lib/python3.9/site-packages/pyspark/pandas/__init__.py:50: UserWarning: 'PYARROW_IGNORE_TIMEZONE' environment variable was not set. It is required to set this environment variable to '1' in both driver and executor sides if you use pyarrow>=2.0.0. pandas-on-Spark will set it for you but it does not work if there is a Spark context already launched.\n",
      "  warnings.warn(\n"
     ]
    }
   ],
   "source": [
    "from pyspark.ml.regression import LinearRegression\n",
    "from pyspark.ml.evaluation import RegressionEvaluator\n",
    "from pyspark.ml.feature import VectorAssembler\n",
    "from yahoo_fin import stock_info as si\n",
    "import datetime as dt\n",
    "from pyspark.ml import Pipeline\n",
    "import pandas_datareader as pdr\n",
    "import matplotlib.pyplot as plt\n",
    "from pyspark.sql.functions import year, month, dayofmonth, concat, lit, lpad, col, collect_list\n",
    "from pyspark.sql import SparkSession\n",
    "from pyspark.sql.functions import monotonically_increasing_id\n",
    "import pyspark.sql.functions as F\n",
    "from pyspark.sql.functions import unix_timestamp\n",
    "\n",
    "from pyspark.sql.window import Window\n",
    "import pyspark.pandas as ps"
   ]
  },
  {
   "cell_type": "markdown",
   "source": [
    "# Data Collection"
   ],
   "metadata": {
    "collapsed": false
   },
   "id": "d10d23aa8e072ef"
  },
  {
   "cell_type": "code",
   "execution_count": 2,
   "outputs": [],
   "source": [
    "ticker = 'TSLA'\n",
    "start_date = dt.datetime(2013, 9, 30)\n",
    "end_date = dt.datetime(2023, 1, 1)\n",
    "fred_symbols = ['SP500', 'DJIA', 'NASDAQCOM', 'VIXCLS', 'GVZCLS', 'DTWEXBGS', 'IUDSOIA', 'BAMLHE00EHYIEY', 'DFF', 'T10Y2Y', 'DGS10', 'T10YIE', 'T5YIE', 'DTB3']"
   ],
   "metadata": {
    "collapsed": false,
    "ExecuteTime": {
     "end_time": "2023-09-30T09:29:51.845483Z",
     "start_time": "2023-09-30T09:29:51.842698Z"
    }
   },
   "id": "cafe69a8b429b63a"
  },
  {
   "cell_type": "code",
   "execution_count": 3,
   "outputs": [],
   "source": [
    "historical_data = si.get_data(ticker, start_date, end_date, interval='1d')\n",
    "fred_df = pdr.get_data_fred(fred_symbols, start_date, end_date)"
   ],
   "metadata": {
    "collapsed": false,
    "ExecuteTime": {
     "end_time": "2023-09-30T09:29:55.142919Z",
     "start_time": "2023-09-30T09:29:51.846263Z"
    }
   },
   "id": "5132e82f591811da"
  },
  {
   "cell_type": "markdown",
   "source": [
    "# Data Pre-Processing with Spark"
   ],
   "metadata": {
    "collapsed": false
   },
   "id": "45ddcfaad26822f4"
  },
  {
   "cell_type": "code",
   "execution_count": 4,
   "outputs": [
    {
     "name": "stderr",
     "output_type": "stream",
     "text": [
      "Setting default log level to \"WARN\".\n",
      "To adjust logging level use sc.setLogLevel(newLevel). For SparkR, use setLogLevel(newLevel).\n",
      "23/09/30 11:29:56 WARN NativeCodeLoader: Unable to load native-hadoop library for your platform... using builtin-java classes where applicable\n"
     ]
    }
   ],
   "source": [
    "# Initialize SparkSession\n",
    "spark = SparkSession.builder \\\n",
    "    .appName(\"StockPrediction\") \\\n",
    "    .config(\"spark.sql.debug.maxToStringFields\", \"100\") \\\n",
    "    .getOrCreate()"
   ],
   "metadata": {
    "collapsed": false,
    "ExecuteTime": {
     "end_time": "2023-09-30T09:29:57.143742Z",
     "start_time": "2023-09-30T09:29:55.144332Z"
    }
   },
   "id": "31a57cc4f875483"
  },
  {
   "cell_type": "code",
   "execution_count": 5,
   "outputs": [],
   "source": [
    "historical_data_spark = spark.createDataFrame(historical_data.reset_index())\n",
    "fred_df_spark = spark.createDataFrame(fred_df.reset_index())"
   ],
   "metadata": {
    "collapsed": false,
    "ExecuteTime": {
     "end_time": "2023-09-30T09:29:59.221100Z",
     "start_time": "2023-09-30T09:29:57.133727Z"
    }
   },
   "id": "188fdec6082b3bb8"
  },
  {
   "cell_type": "code",
   "execution_count": 6,
   "outputs": [],
   "source": [
    "historical_data_spark = historical_data_spark.withColumnRenamed(\"index\", \"DATE\")\n",
    "historical_data_spark = historical_data_spark.drop('ticker', 'adjclose')\n",
    "\n",
    "historical_data_spark = historical_data_spark.withColumn(\"year\", year(\"DATE\"))\n",
    "historical_data_spark = historical_data_spark.withColumn(\"month\", month(\"DATE\"))\n",
    "historical_data_spark = historical_data_spark.withColumn(\"day\", dayofmonth(\"DATE\"))\n",
    "historical_data_spark = historical_data_spark.withColumn('fulldate', concat(historical_data_spark['year'],\n",
    "                                       lpad(historical_data_spark['month'], 2, '0'),\n",
    "                                       lpad(historical_data_spark['day'], 2, '0')))\n",
    "historical_data_spark = historical_data_spark.withColumn('fulldate', historical_data_spark['fulldate'].cast('int'))"
   ],
   "metadata": {
    "collapsed": false,
    "ExecuteTime": {
     "end_time": "2023-09-30T09:29:59.345105Z",
     "start_time": "2023-09-30T09:29:59.222895Z"
    }
   },
   "id": "9257e51c06f55fef"
  },
  {
   "cell_type": "code",
   "execution_count": 8,
   "outputs": [],
   "source": [
    "fred_df_spark = fred_df_spark.withColumn(\"Index\", monotonically_increasing_id())\n",
    "#fred_df_spark.show()"
   ],
   "metadata": {
    "collapsed": false,
    "ExecuteTime": {
     "end_time": "2023-09-30T09:29:59.383344Z",
     "start_time": "2023-09-30T09:29:59.373201Z"
    }
   },
   "id": "536e1555f4f7217a"
  },
  {
   "cell_type": "code",
   "execution_count": 9,
   "outputs": [],
   "source": [
    "dataset_spark = historical_data_spark.join(fred_df_spark, on=\"DATE\", how=\"left\")\n",
    "dataset_spark = dataset_spark.orderBy(\"DATE\")\n",
    "dataset_spark = dataset_spark.withColumn(\"Index\", monotonically_increasing_id())\n",
    "dataset_spark = dataset_spark.drop(\"DATE\")\n",
    "#dataset_spark.show()"
   ],
   "metadata": {
    "collapsed": false,
    "ExecuteTime": {
     "end_time": "2023-09-30T09:29:59.441796Z",
     "start_time": "2023-09-30T09:29:59.384564Z"
    }
   },
   "id": "b76706a56a1bb8c1"
  },
  {
   "cell_type": "code",
   "execution_count": 10,
   "outputs": [
    {
     "name": "stderr",
     "output_type": "stream",
     "text": [
      "Java HotSpot(TM) 64-Bit Server VM warning: CodeCache is full. Compiler has been disabled.\n",
      "Java HotSpot(TM) 64-Bit Server VM warning: Try increasing the code cache size using -XX:ReservedCodeCacheSize=\n"
     ]
    },
    {
     "name": "stdout",
     "output_type": "stream",
     "text": [
      "CodeCache: size=131072Kb used=17391Kb max_used=17391Kb free=113680Kb\n",
      " bounds [0x0000000102ca0000, 0x0000000103db0000, 0x000000010aca0000]\n",
      " total_blobs=7451 nmethods=6586 adapters=777\n",
      " compilation: disabled (not enough contiguous free space left)\n",
      "Number of rows in the DataFrame:  2331\n"
     ]
    },
    {
     "name": "stderr",
     "output_type": "stream",
     "text": [
      "                                                                                \r"
     ]
    }
   ],
   "source": [
    "# Assuming 'df' is your Spark DataFrame\n",
    "row_count = dataset_spark.count()\n",
    "\n",
    "# Print the row count\n",
    "print(\"Number of rows in the DataFrame: \", row_count)"
   ],
   "metadata": {
    "collapsed": false,
    "ExecuteTime": {
     "end_time": "2023-09-30T09:30:02.156904Z",
     "start_time": "2023-09-30T09:29:59.442498Z"
    }
   },
   "id": "1cf66715579363d1"
  },
  {
   "cell_type": "code",
   "execution_count": 11,
   "outputs": [],
   "source": [
    "#dataset_spark = dataset_spark.drop(\"fulldate\")"
   ],
   "metadata": {
    "collapsed": false,
    "ExecuteTime": {
     "end_time": "2023-09-30T09:30:02.163002Z",
     "start_time": "2023-09-30T09:30:02.156825Z"
    }
   },
   "id": "60b2ca8d27b16893"
  },
  {
   "cell_type": "code",
   "execution_count": 12,
   "outputs": [
    {
     "name": "stdout",
     "output_type": "stream",
     "text": [
      "+----+----+---+-----+------+----+-----+---+--------+-----+----+---------+------+------+--------+-------+--------------+---+------+-----+------+-----+----+-----+\n",
      "|open|high|low|close|volume|year|month|day|fulldate|SP500|DJIA|NASDAQCOM|VIXCLS|GVZCLS|DTWEXBGS|IUDSOIA|BAMLHE00EHYIEY|DFF|T10Y2Y|DGS10|T10YIE|T5YIE|DTB3|Index|\n",
      "+----+----+---+-----+------+----+-----+---+--------+-----+----+---------+------+------+--------+-------+--------------+---+------+-----+------+-----+----+-----+\n",
      "|   0|   0|  0|    0|     0|   0|    0|  0|       0|    0|   0|        0|     0|     0|      41|     42|             1|  0|    19|   19|    19|   19|  19|    0|\n",
      "+----+----+---+-----+------+----+-----+---+--------+-----+----+---------+------+------+--------+-------+--------------+---+------+-----+------+-----+----+-----+\n"
     ]
    }
   ],
   "source": [
    "#Count null values in each column\n",
    "dataset_spark.select([F.count(F.when(F.isnan(c) | F.col(c).isNull(), c)).alias(c) for c in dataset_spark.columns]).show()"
   ],
   "metadata": {
    "collapsed": false,
    "ExecuteTime": {
     "end_time": "2023-09-30T09:30:03.535970Z",
     "start_time": "2023-09-30T09:30:02.160724Z"
    }
   },
   "id": "2d16949e0254bbf0"
  },
  {
   "cell_type": "code",
   "execution_count": 13,
   "outputs": [
    {
     "name": "stdout",
     "output_type": "stream",
     "text": [
      "+------------------+------------------+------------------+------------------+---------+----+-----+---+--------+-------+--------+---------+------+------+--------+-------+--------------+----+------+-----+------+-----+----+-----+\n",
      "|              open|              high|               low|             close|   volume|year|month|day|fulldate|  SP500|    DJIA|NASDAQCOM|VIXCLS|GVZCLS|DTWEXBGS|IUDSOIA|BAMLHE00EHYIEY| DFF|T10Y2Y|DGS10|T10YIE|T5YIE|DTB3|Index|\n",
      "+------------------+------------------+------------------+------------------+---------+----+-----+---+--------+-------+--------+---------+------+------+--------+-------+--------------+----+------+-----+------+-----+----+-----+\n",
      "|12.600000381469727|12.966667175292969|12.533332824707031|12.891332626342773|133870500|2013|    9| 30|20130930|1681.55|15129.67|  3771.48|  16.6| 23.72| 92.9207|  0.411|           5.5|0.06|  2.31| 2.64|  2.19| 1.74|0.02|    0|\n",
      "| 12.93066692352295|  12.9486665725708|12.557999610900879|12.866666793823242|116338500|2013|   10|  1|20131001| 1695.0| 15191.7|  3817.98| 15.54| 25.48| 92.9515| 0.4345|          5.46|0.08|  2.33| 2.66|   2.2| 1.77|0.02|    1|\n",
      "|12.572667121887207|12.788666725158691| 11.69333267211914|12.063332557678223|311631000|2013|   10|  2|20131002|1693.87|15133.14|  3815.02|  16.6| 24.04|  92.772| 0.4288|          5.41|0.07|  2.32| 2.63|   2.2|  1.8|0.02|    2|\n",
      "|11.670000076293945| 11.97933292388916|11.199999809265137|11.553999900817871|357247500|2013|   10|  3|20131003|1678.66|14996.48|  3774.34| 17.67| 24.54| 92.7461| 0.4362|          5.38|0.08|  2.29| 2.62|  2.19| 1.77|0.03|    3|\n",
      "|11.760000228881836|12.078666687011719|11.510000228881836|12.065333366394043|216210000|2013|   10|  4|20131004| 1690.5|15072.58|  3807.75| 16.74| 24.77| 92.6469| 0.4315|          5.35|0.08|  2.33| 2.66|   2.2| 1.79|0.03|    4|\n",
      "|12.163999557495117|  12.4486665725708|12.017333030700684|12.204667091369629|172284000|2013|   10|  7|20131007|1676.12|14936.24|  3770.38| 19.41| 24.81| 92.6725| 0.4335|          5.31|0.08|  2.28| 2.65|   2.2| 1.79|0.03|    5|\n",
      "|12.293333053588867|12.395333290100098|11.547332763671875|11.648667335510254|206358000|2013|   10|  8|20131008|1655.45|14776.53|  3694.83| 20.34| 25.44| 92.7558| 0.4346|          5.29|0.08|  2.26| 2.66|  2.18| 1.76|0.05|    6|\n",
      "|11.648667335510254|11.666000366210938|10.766667366027832|11.251999855041504|229747500|2013|   10|  9|20131009| 1656.4|14802.98|  3677.78|  19.6| 25.81| 93.0829| 0.4333|          5.29|0.09|  2.31| 2.68|  2.21| 1.78|0.05|    7|\n",
      "| 11.53933334350586|11.716667175292969|11.312666893005371|11.528667449951172|133258500|2013|   10| 10|20131010|1692.56|15126.07|  3760.75| 16.48| 25.36| 92.8579| 0.4307|          5.25|0.09|  2.36| 2.71|  2.21| 1.81|0.05|    8|\n",
      "|11.516667366027832|11.952667236328125| 11.41333293914795| 11.91333293914795|124666500|2013|   10| 11|20131011| 1703.2|15237.11|  3791.87| 15.72| 25.83|  92.854| 0.4283|           5.2| 0.1|  2.35|  2.7|   2.2| 1.79|0.08|    9|\n",
      "| 12.35200023651123|12.586000442504883|12.211999893188477|12.262666702270508|164677500|2013|   10| 15|20131015|1698.06|15168.01|  3794.01| 18.66| 26.07| 92.7642| 0.4337|          5.12| 0.1|  2.38| 2.75|  2.21| 1.79|0.14|   11|\n",
      "|12.326666831970215|12.486666679382324| 12.13933277130127|12.237333297729492|123081000|2013|   10| 16|20131016|1721.54|15373.83|  3839.43| 14.71| 24.72| 92.6819| 0.4313|          5.12|0.11|  2.35| 2.69|  2.19| 1.79| 0.1|   12|\n",
      "|12.236000061035156|12.319999694824219|12.065999984741211|12.186667442321777|100575000|2013|   10| 17|20131017|1733.15|15371.65|  3863.15| 13.48| 22.31| 92.0246| 0.4277|          5.05| 0.1|  2.28| 2.61|  2.16| 1.77|0.05|   13|\n",
      "|12.276666641235352|12.397333145141602|12.168000221252441|12.226667404174805| 88962000|2013|   10| 18|20131018| 1744.5|15399.65|  3914.28| 13.04| 21.43| 91.9989| 0.4322|           5.0| 0.1|  2.27|  2.6|  2.18| 1.78|0.04|   14|\n",
      "|12.218667030334473| 12.22599983215332|11.399999618530273|11.506667137145996|172981500|2013|   10| 21|20131021|1744.66| 15392.2|  3920.05| 13.16| 21.52| 92.2498| 0.4332|          4.97|0.09|   2.3| 2.63|  2.19| 1.79|0.04|   15|\n",
      "|11.366666793823242| 11.85200023651123|11.074000358581543|11.435999870300293|170800500|2013|   10| 22|20131022|1754.67|15467.66|  3929.57| 13.33| 20.75| 91.9563| 0.4309|          4.94|0.08|  2.23| 2.54|  2.17| 1.76|0.04|   16|\n",
      "|11.260666847229004|11.454000473022461|10.676667213439941|10.966667175292969|199806000|2013|   10| 23|20131023|1746.38|15413.33|  3907.07| 13.42| 20.52| 92.0947| 0.4317|          4.94|0.08|   2.2| 2.51|  2.15| 1.76|0.04|   17|\n",
      "|              11.0|11.633333206176758| 10.85533332824707|11.543333053588867|162385500|2013|   10| 24|20131024|1752.07|15509.21|  3928.96|  13.2| 20.67| 92.1867| 0.4316|          4.96|0.08|   2.2| 2.53|  2.17| 1.77|0.03|   18|\n",
      "| 11.61400032043457|11.633333206176758|11.119999885559082|11.310667037963867|113932500|2013|   10| 25|20131025|1759.77|15570.28|  3943.36| 13.09|  19.9| 92.1623|  0.433|          4.97|0.08|  2.21| 2.53|  2.19| 1.77|0.04|   19|\n",
      "|11.345333099365234|11.366666793823242|10.813332557678223|10.857333183288574|117625500|2013|   10| 28|20131028|1762.11|15568.93|  3940.13| 13.31| 20.32| 92.1872| 0.4322|          4.96|0.08|  2.22| 2.54|  2.19| 1.79|0.04|   20|\n",
      "+------------------+------------------+------------------+------------------+---------+----+-----+---+--------+-------+--------+---------+------+------+--------+-------+--------------+----+------+-----+------+-----+----+-----+\n"
     ]
    }
   ],
   "source": [
    "# Drop rows where 'column1' or 'column2' have null values\n",
    "dataset_spark = dataset_spark.dropna()\n",
    "dataset_spark.show()"
   ],
   "metadata": {
    "collapsed": false,
    "ExecuteTime": {
     "end_time": "2023-09-30T09:30:06.301376Z",
     "start_time": "2023-09-30T09:30:05.717742Z"
    }
   },
   "id": "64e75f2c741fe0c0"
  },
  {
   "cell_type": "code",
   "execution_count": 14,
   "outputs": [
    {
     "name": "stdout",
     "output_type": "stream",
     "text": [
      "Number of rows in the DataFrame:  2248\n"
     ]
    }
   ],
   "source": [
    "# Assuming 'df' is your Spark DataFrame\n",
    "row_count = dataset_spark.count()\n",
    "\n",
    "# Print the row count\n",
    "print(\"Number of rows in the DataFrame: \", row_count)"
   ],
   "metadata": {
    "collapsed": false,
    "ExecuteTime": {
     "end_time": "2023-09-30T09:30:07.650315Z",
     "start_time": "2023-09-30T09:30:07.099372Z"
    }
   },
   "id": "588f9207945c41af"
  },
  {
   "cell_type": "markdown",
   "source": [
    "# MLLib"
   ],
   "metadata": {
    "collapsed": false
   },
   "id": "c949be5ddcf010a9"
  },
  {
   "cell_type": "code",
   "execution_count": 15,
   "outputs": [],
   "source": [
    "# Prepare data for MLlib\n",
    "feature_columns = [col_name for col_name in dataset_spark.columns if col_name != 'close']\n",
    "vector_assembler = VectorAssembler(inputCols=feature_columns, outputCol=\"features\")\n",
    "# Determine the split point based on the desired ratio\n",
    "split_ratio = 0.8  # 80% for training, 20% for testing\n",
    "split_point = int(dataset_spark.count() * split_ratio)\n",
    "\n",
    "# Split the data into training and testing sets\n",
    "train_data = dataset_spark.limit(split_point)\n",
    "test_data = dataset_spark.subtract(train_data)\n",
    "\n",
    "# Reorder by index\n",
    "train_data = train_data.orderBy(\"Index\")\n",
    "test_data = test_data.orderBy(\"Index\")"
   ],
   "metadata": {
    "collapsed": false,
    "ExecuteTime": {
     "end_time": "2023-09-30T09:30:09.551197Z",
     "start_time": "2023-09-30T09:30:08.993321Z"
    }
   },
   "id": "7891fd4d136afa1a"
  },
  {
   "cell_type": "markdown",
   "source": [
    "# Linear Regression"
   ],
   "metadata": {
    "collapsed": false
   },
   "id": "ff28a6e79846b0df"
  },
  {
   "cell_type": "code",
   "execution_count": 16,
   "outputs": [],
   "source": [
    "lr = LinearRegression(labelCol='close', featuresCol='features')"
   ],
   "metadata": {
    "collapsed": false,
    "ExecuteTime": {
     "end_time": "2023-09-30T09:30:10.835425Z",
     "start_time": "2023-09-30T09:30:10.804656Z"
    }
   },
   "id": "dc08e8a760222bf9"
  },
  {
   "cell_type": "code",
   "execution_count": 17,
   "outputs": [],
   "source": [
    "pipeline = Pipeline(stages=[vector_assembler, lr])"
   ],
   "metadata": {
    "collapsed": false,
    "ExecuteTime": {
     "end_time": "2023-09-30T09:30:11.344562Z",
     "start_time": "2023-09-30T09:30:11.335279Z"
    }
   },
   "id": "142d5db79de7f370"
  },
  {
   "cell_type": "code",
   "execution_count": 18,
   "outputs": [
    {
     "name": "stderr",
     "output_type": "stream",
     "text": [
      "23/09/30 11:30:13 WARN Instrumentation: [dda0027a] regParam is zero, which might cause numerical instability and overfitting.\n",
      "23/09/30 11:30:13 WARN InstanceBuilder: Failed to load implementation from:dev.ludovic.netlib.blas.JNIBLAS\n",
      "23/09/30 11:30:13 WARN InstanceBuilder: Failed to load implementation from:dev.ludovic.netlib.lapack.JNILAPACK\n"
     ]
    }
   ],
   "source": [
    "# Linear Regression in Spark\n",
    "lr_model = pipeline.fit(train_data)"
   ],
   "metadata": {
    "collapsed": false,
    "ExecuteTime": {
     "end_time": "2023-09-30T09:30:14.160952Z",
     "start_time": "2023-09-30T09:30:11.753338Z"
    }
   },
   "id": "e907896e1218e0ca"
  },
  {
   "cell_type": "code",
   "execution_count": 19,
   "outputs": [],
   "source": [
    "# Model Evaluation in Spark\n",
    "lr_predictions = lr_model.transform(test_data)\n",
    "evaluator = RegressionEvaluator(labelCol=\"close\", predictionCol=\"prediction\", metricName=\"rmse\")"
   ],
   "metadata": {
    "collapsed": false,
    "ExecuteTime": {
     "end_time": "2023-09-30T09:30:15.100643Z",
     "start_time": "2023-09-30T09:30:15.029809Z"
    }
   },
   "id": "af3632118abab185"
  },
  {
   "cell_type": "code",
   "execution_count": 20,
   "outputs": [
    {
     "data": {
      "text/plain": "4.020249073297718"
     },
     "execution_count": 20,
     "metadata": {},
     "output_type": "execute_result"
    }
   ],
   "source": [
    "lr_rmse = evaluator.evaluate(lr_predictions)\n",
    "lr_rmse"
   ],
   "metadata": {
    "collapsed": false,
    "ExecuteTime": {
     "end_time": "2023-09-30T09:30:16.856150Z",
     "start_time": "2023-09-30T09:30:15.824939Z"
    }
   },
   "id": "2afa011b14e0310f"
  },
  {
   "cell_type": "code",
   "execution_count": 25,
   "outputs": [],
   "source": [
    "# Convert lr_predictions DataFrame to Pandas DataFrame\n",
    "predictions_pd = lr_predictions.select(\"Index\", \"close\", \"prediction\").toPandas()\n",
    "\n",
    "# Extract the actual \"close\" values and timestamp\n",
    "actual_close = predictions_pd[\"close\"]\n",
    "dates = predictions_pd[\"Index\"]\n",
    "\n",
    "# Extract the predicted values\n",
    "predicted_close = predictions_pd[\"prediction\"]"
   ],
   "metadata": {
    "collapsed": false,
    "ExecuteTime": {
     "end_time": "2023-09-30T09:31:41.893492Z",
     "start_time": "2023-09-30T09:31:41.003450Z"
    }
   },
   "id": "85872c19ea3eb"
  },
  {
   "cell_type": "code",
   "execution_count": 26,
   "outputs": [
    {
     "data": {
      "text/plain": "0      1863\n1      1864\n2      1865\n3      1866\n4      1867\n       ... \n445    2325\n446    2326\n447    2328\n448    2329\n449    2330\nName: Index, Length: 450, dtype: int64"
     },
     "execution_count": 26,
     "metadata": {},
     "output_type": "execute_result"
    }
   ],
   "source": [
    "dates"
   ],
   "metadata": {
    "collapsed": false,
    "ExecuteTime": {
     "end_time": "2023-09-30T09:31:42.407295Z",
     "start_time": "2023-09-30T09:31:42.401126Z"
    }
   },
   "id": "1762940815e98f26"
  },
  {
   "cell_type": "code",
   "execution_count": 27,
   "outputs": [
    {
     "data": {
      "text/plain": "<Figure size 1200x600 with 1 Axes>",
      "image/png": "[encoded data removed]"
     },
     "metadata": {},
     "output_type": "display_data"
    }
   ],
   "source": [
    "# Create a time series plot\n",
    "plt.figure(figsize=(12, 6))\n",
    "plt.plot(dates, actual_close, label=\"Actual Close\", color=\"b\")\n",
    "plt.plot(dates, predicted_close, label=\"Predicted Close\", color=\"r\")\n",
    "plt.xlabel(\"Date\")\n",
    "plt.ylabel(\"Close Price\")\n",
    "plt.title(\"Actual vs. Predicted Close Prices\")\n",
    "plt.legend()\n",
    "plt.grid(True)\n",
    "plt.show()"
   ],
   "metadata": {
    "collapsed": false,
    "ExecuteTime": {
     "end_time": "2023-09-30T09:31:43.356243Z",
     "start_time": "2023-09-30T09:31:43.239734Z"
    }
   },
   "id": "b7a9d8b9622c414e"
  }
 ],
 "metadata": {
  "kernelspec": {
   "display_name": "Python 3",
   "language": "python",
   "name": "python3"
  },
  "language_info": {
   "codemirror_mode": {
    "name": "ipython",
    "version": 2
   },
   "file_extension": ".py",
   "mimetype": "text/x-python",
   "name": "python",
   "nbconvert_exporter": "python",
   "pygments_lexer": "ipython2",
   "version": "2.7.6"
  }
 },
 "nbformat": 4,
 "nbformat_minor": 5
}
